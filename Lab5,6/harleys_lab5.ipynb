{
 "cells": [
  {
   "cell_type": "markdown",
   "metadata": {},
   "source": [
    "# CS 3300 Data Science - Lab 5: Exploratory Data Analysis with Dimensionality Reduction\n",
    "\n",
    "## Stuart Harley\n",
    "\n",
    "### Introduction"
   ]
  },
  {
   "cell_type": "markdown",
   "metadata": {},
   "source": [
    "In this lab, we are exploring a dataset of emails represented as JSON files. Each email is classified as either spam or ham. In processing of these files, we create a sparse matrix of words contained in each email. Because this matrix ends up being very large, we are unable to analyze every word/feature in the matrix. Therefore, we are exploring dimensionality reduction using a Singular Value Decomposition (SVD) method in order to create fewer features that will allow us to predict whether an email is either spam or ham."
   ]
  },
  {
   "cell_type": "markdown",
   "metadata": {},
   "source": [
    "### Importing Libraries"
   ]
  },
  {
   "cell_type": "code",
   "execution_count": 1,
   "metadata": {},
   "outputs": [],
   "source": [
    "import glob\n",
    "import json\n",
    "import numpy as np\n",
    "import pandas as pd\n",
    "from sklearn.feature_extraction.text import CountVectorizer\n",
    "from sklearn.decomposition import TruncatedSVD\n",
    "import matplotlib.pyplot as plt"
   ]
  },
  {
   "cell_type": "markdown",
   "metadata": {},
   "source": [
    "### Part I: Loading the Data"
   ]
  },
  {
   "cell_type": "markdown",
   "metadata": {},
   "source": [
    "Loading email data from json files into a pandas dataframe."
   ]
  },
  {
   "cell_type": "code",
   "execution_count": 2,
   "metadata": {},
   "outputs": [],
   "source": [
    "files = glob.glob('email_json/*', recursive=True)"
   ]
  },
  {
   "cell_type": "code",
   "execution_count": 3,
   "metadata": {},
   "outputs": [],
   "source": [
    "email_list = []\n",
    "for file in files:\n",
    "    with open(file) as file:\n",
    "        email_list.append(json.load(file))"
   ]
  },
  {
   "cell_type": "code",
   "execution_count": 4,
   "metadata": {},
   "outputs": [],
   "source": [
    "df = pd.DataFrame.from_records(email_list)\n",
    "df['category'] = df['category'].astype('category')"
   ]
  },
  {
   "cell_type": "code",
   "execution_count": 5,
   "metadata": {},
   "outputs": [
    {
     "data": {
      "text/html": [
       "<div>\n",
       "<style scoped>\n",
       "    .dataframe tbody tr th:only-of-type {\n",
       "        vertical-align: middle;\n",
       "    }\n",
       "\n",
       "    .dataframe tbody tr th {\n",
       "        vertical-align: top;\n",
       "    }\n",
       "\n",
       "    .dataframe thead th {\n",
       "        text-align: right;\n",
       "    }\n",
       "</style>\n",
       "<table border=\"1\" class=\"dataframe\">\n",
       "  <thead>\n",
       "    <tr style=\"text-align: right;\">\n",
       "      <th></th>\n",
       "      <th>body</th>\n",
       "      <th>category</th>\n",
       "      <th>from_address</th>\n",
       "      <th>subject</th>\n",
       "      <th>to_address</th>\n",
       "    </tr>\n",
       "  </thead>\n",
       "  <tbody>\n",
       "    <tr>\n",
       "      <th>0</th>\n",
       "      <td>\\n\\n\\n\\n\\n\\n\\nDo you feel the pressure to perf...</td>\n",
       "      <td>spam</td>\n",
       "      <td>\"Tomas Jacobs\" &lt;RickyAmes@aol.com&gt;</td>\n",
       "      <td>Generic Cialis, branded quality@</td>\n",
       "      <td>the00@speedy.uwaterloo.ca</td>\n",
       "    </tr>\n",
       "    <tr>\n",
       "      <th>1</th>\n",
       "      <td>Hi, i've just updated from the gulus and I che...</td>\n",
       "      <td>ham</td>\n",
       "      <td>Yan Morin &lt;yan.morin@savoirfairelinux.com&gt;</td>\n",
       "      <td>Typo in /debian/README</td>\n",
       "      <td>debian-mirrors@lists.debian.org</td>\n",
       "    </tr>\n",
       "    <tr>\n",
       "      <th>2</th>\n",
       "      <td>authentic viagra\\n\\nMega  authenticV I A G R A...</td>\n",
       "      <td>spam</td>\n",
       "      <td>\"Sheila Crenshaw\" &lt;7stocknews@tractionmarketin...</td>\n",
       "      <td>authentic viagra</td>\n",
       "      <td>&lt;the00@plg.uwaterloo.ca&gt;</td>\n",
       "    </tr>\n",
       "    <tr>\n",
       "      <th>3</th>\n",
       "      <td>\\nHey Billy, \\n\\nit was really fun going out t...</td>\n",
       "      <td>spam</td>\n",
       "      <td>\"Stormy Dempsey\" &lt;vqucsmdfgvsg@ruraltek.com&gt;</td>\n",
       "      <td>Nice talking with ya</td>\n",
       "      <td>opt4@speedy.uwaterloo.ca</td>\n",
       "    </tr>\n",
       "    <tr>\n",
       "      <th>4</th>\n",
       "      <td>\\n\\n\\n\\n\\n\\n\\nsystem\" of the home.  It will ha...</td>\n",
       "      <td>spam</td>\n",
       "      <td>\"Christi T. Jernigan\" &lt;dcube@totalink.net&gt;</td>\n",
       "      <td>or trembling; stomach cramps; trouble in sleep...</td>\n",
       "      <td>ktwarwic@speedy.uwaterloo.ca</td>\n",
       "    </tr>\n",
       "  </tbody>\n",
       "</table>\n",
       "</div>"
      ],
      "text/plain": [
       "                                                body category  \\\n",
       "0  \\n\\n\\n\\n\\n\\n\\nDo you feel the pressure to perf...     spam   \n",
       "1  Hi, i've just updated from the gulus and I che...      ham   \n",
       "2  authentic viagra\\n\\nMega  authenticV I A G R A...     spam   \n",
       "3  \\nHey Billy, \\n\\nit was really fun going out t...     spam   \n",
       "4  \\n\\n\\n\\n\\n\\n\\nsystem\" of the home.  It will ha...     spam   \n",
       "\n",
       "                                        from_address  \\\n",
       "0                 \"Tomas Jacobs\" <RickyAmes@aol.com>   \n",
       "1         Yan Morin <yan.morin@savoirfairelinux.com>   \n",
       "2  \"Sheila Crenshaw\" <7stocknews@tractionmarketin...   \n",
       "3       \"Stormy Dempsey\" <vqucsmdfgvsg@ruraltek.com>   \n",
       "4         \"Christi T. Jernigan\" <dcube@totalink.net>   \n",
       "\n",
       "                                             subject  \\\n",
       "0                  Generic Cialis, branded quality@    \n",
       "1                             Typo in /debian/README   \n",
       "2                                   authentic viagra   \n",
       "3                               Nice talking with ya   \n",
       "4  or trembling; stomach cramps; trouble in sleep...   \n",
       "\n",
       "                        to_address  \n",
       "0        the00@speedy.uwaterloo.ca  \n",
       "1  debian-mirrors@lists.debian.org  \n",
       "2         <the00@plg.uwaterloo.ca>  \n",
       "3         opt4@speedy.uwaterloo.ca  \n",
       "4     ktwarwic@speedy.uwaterloo.ca  "
      ]
     },
     "execution_count": 5,
     "metadata": {},
     "output_type": "execute_result"
    }
   ],
   "source": [
    "df.head()"
   ]
  },
  {
   "cell_type": "code",
   "execution_count": 6,
   "metadata": {},
   "outputs": [
    {
     "name": "stdout",
     "output_type": "stream",
     "text": [
      "<class 'pandas.core.frame.DataFrame'>\n",
      "RangeIndex: 63542 entries, 0 to 63541\n",
      "Data columns (total 5 columns):\n",
      "body            63542 non-null object\n",
      "category        63542 non-null category\n",
      "from_address    63542 non-null object\n",
      "subject         63410 non-null object\n",
      "to_address      63141 non-null object\n",
      "dtypes: category(1), object(4)\n",
      "memory usage: 2.0+ MB\n"
     ]
    }
   ],
   "source": [
    "df.info()"
   ]
  },
  {
   "cell_type": "markdown",
   "metadata": {},
   "source": [
    "The column names are listed above. The type of category is category, the other features are strings."
   ]
  },
  {
   "cell_type": "markdown",
   "metadata": {},
   "source": [
    "### Part II: Extract Features"
   ]
  },
  {
   "cell_type": "markdown",
   "metadata": {},
   "source": [
    "Creating a feature matrix of words and their counts for each email. We use a binary=True option. This makes use only keep track of whether the word is present in the message instead of counting the number of occurances. So each value in the feature matrix will be either 0 or 1."
   ]
  },
  {
   "cell_type": "code",
   "execution_count": 7,
   "metadata": {},
   "outputs": [],
   "source": [
    "vectorizer = CountVectorizer(binary=True)\n",
    "word_matrix = vectorizer.fit_transform(df['body'])"
   ]
  },
  {
   "cell_type": "code",
   "execution_count": 8,
   "metadata": {},
   "outputs": [
    {
     "data": {
      "text/plain": [
       "<63542x300984 sparse matrix of type '<class 'numpy.int64'>'\n",
       "\twith 6885706 stored elements in Compressed Sparse Row format>"
      ]
     },
     "execution_count": 8,
     "metadata": {},
     "output_type": "execute_result"
    }
   ],
   "source": [
    "word_matrix"
   ]
  },
  {
   "cell_type": "markdown",
   "metadata": {},
   "source": [
    "There were 63,542 emails in the dataframe, therefore there are 63,542 rows in the matrix since each row represents one email. There are 300,984 columns in the matrix which means that there are 300,984 different words in all of the emails combined. There are 6,885,706 non-zero entries in the matrix."
   ]
  },
  {
   "cell_type": "code",
   "execution_count": 9,
   "metadata": {},
   "outputs": [
    {
     "name": "stdout",
     "output_type": "stream",
     "text": [
      "Entries in feature matrix: 300984\n"
     ]
    }
   ],
   "source": [
    "feature_words = vectorizer.get_feature_names()\n",
    "print('Entries in feature matrix: ' + str(len(feature_words)))"
   ]
  },
  {
   "cell_type": "code",
   "execution_count": 10,
   "metadata": {},
   "outputs": [
    {
     "name": "stdout",
     "output_type": "stream",
     "text": [
      "Column Index of \"work\": 289649\n",
      "Column Index of \"love\": 183355\n",
      "Column Index of \"different\": 125499\n"
     ]
    }
   ],
   "source": [
    "print('Column Index of \"work\": ' + str(feature_words.index('work')))\n",
    "print('Column Index of \"love\": '+ str(feature_words.index('love')))\n",
    "print('Column Index of \"different\": ' + str(feature_words.index('different')))"
   ]
  },
  {
   "cell_type": "code",
   "execution_count": 11,
   "metadata": {},
   "outputs": [
    {
     "name": "stdout",
     "output_type": "stream",
     "text": [
      "Column for \"work\"\n",
      "  (4, 0)\t1\n",
      "  (5, 0)\t1\n",
      "  (13, 0)\t1\n",
      "  (27, 0)\t1\n",
      "  (28, 0)\t1\n",
      "  (33, 0)\t1\n",
      "  (57, 0)\t1\n",
      "  (68, 0)\t1\n",
      "  (72, 0)\t1\n",
      "  (92, 0)\t1\n",
      "  (124, 0)\t1\n",
      "  (125, 0)\t1\n",
      "  (134, 0)\t1\n",
      "  (138, 0)\t1\n",
      "  (139, 0)\t1\n",
      "  (140, 0)\t1\n",
      "  (143, 0)\t1\n",
      "  (148, 0)\t1\n",
      "  (155, 0)\t1\n",
      "  (165, 0)\t1\n",
      "  (181, 0)\t1\n",
      "  (186, 0)\t1\n",
      "  (197, 0)\t1\n",
      "  (201, 0)\t1\n",
      "  (202, 0)\t1\n",
      "  :\t:\n",
      "  (63180, 0)\t1\n",
      "  (63200, 0)\t1\n",
      "  (63205, 0)\t1\n",
      "  (63211, 0)\t1\n",
      "  (63240, 0)\t1\n",
      "  (63241, 0)\t1\n",
      "  (63249, 0)\t1\n",
      "  (63250, 0)\t1\n",
      "  (63253, 0)\t1\n",
      "  (63255, 0)\t1\n",
      "  (63371, 0)\t1\n",
      "  (63382, 0)\t1\n",
      "  (63385, 0)\t1\n",
      "  (63398, 0)\t1\n",
      "  (63403, 0)\t1\n",
      "  (63415, 0)\t1\n",
      "  (63416, 0)\t1\n",
      "  (63425, 0)\t1\n",
      "  (63426, 0)\t1\n",
      "  (63444, 0)\t1\n",
      "  (63457, 0)\t1\n",
      "  (63507, 0)\t1\n",
      "  (63512, 0)\t1\n",
      "  (63531, 0)\t1\n",
      "  (63535, 0)\t1\n"
     ]
    }
   ],
   "source": [
    "print('Column for \"work\"\\n' + str(word_matrix[:,289649]))"
   ]
  },
  {
   "cell_type": "code",
   "execution_count": 12,
   "metadata": {},
   "outputs": [
    {
     "name": "stdout",
     "output_type": "stream",
     "text": [
      "Column for \"love\"\n",
      "  (3, 0)\t1\n",
      "  (14, 0)\t1\n",
      "  (49, 0)\t1\n",
      "  (81, 0)\t1\n",
      "  (193, 0)\t1\n",
      "  (221, 0)\t1\n",
      "  (224, 0)\t1\n",
      "  (290, 0)\t1\n",
      "  (342, 0)\t1\n",
      "  (377, 0)\t1\n",
      "  (381, 0)\t1\n",
      "  (479, 0)\t1\n",
      "  (496, 0)\t1\n",
      "  (524, 0)\t1\n",
      "  (600, 0)\t1\n",
      "  (631, 0)\t1\n",
      "  (680, 0)\t1\n",
      "  (736, 0)\t1\n",
      "  (852, 0)\t1\n",
      "  (917, 0)\t1\n",
      "  (929, 0)\t1\n",
      "  (938, 0)\t1\n",
      "  (952, 0)\t1\n",
      "  (954, 0)\t1\n",
      "  (974, 0)\t1\n",
      "  :\t:\n",
      "  (62677, 0)\t1\n",
      "  (62694, 0)\t1\n",
      "  (62715, 0)\t1\n",
      "  (62716, 0)\t1\n",
      "  (62789, 0)\t1\n",
      "  (62791, 0)\t1\n",
      "  (62799, 0)\t1\n",
      "  (62806, 0)\t1\n",
      "  (62807, 0)\t1\n",
      "  (62808, 0)\t1\n",
      "  (62994, 0)\t1\n",
      "  (62999, 0)\t1\n",
      "  (63062, 0)\t1\n",
      "  (63092, 0)\t1\n",
      "  (63105, 0)\t1\n",
      "  (63142, 0)\t1\n",
      "  (63177, 0)\t1\n",
      "  (63185, 0)\t1\n",
      "  (63289, 0)\t1\n",
      "  (63312, 0)\t1\n",
      "  (63340, 0)\t1\n",
      "  (63415, 0)\t1\n",
      "  (63424, 0)\t1\n",
      "  (63511, 0)\t1\n",
      "  (63515, 0)\t1\n"
     ]
    }
   ],
   "source": [
    "print('Column for \"love\"\\n' + str(word_matrix[:,183355]))"
   ]
  },
  {
   "cell_type": "code",
   "execution_count": 13,
   "metadata": {},
   "outputs": [
    {
     "name": "stdout",
     "output_type": "stream",
     "text": [
      "Column for \"different\"\n",
      "  (10, 0)\t1\n",
      "  (15, 0)\t1\n",
      "  (49, 0)\t1\n",
      "  (75, 0)\t1\n",
      "  (77, 0)\t1\n",
      "  (79, 0)\t1\n",
      "  (243, 0)\t1\n",
      "  (259, 0)\t1\n",
      "  (267, 0)\t1\n",
      "  (268, 0)\t1\n",
      "  (277, 0)\t1\n",
      "  (280, 0)\t1\n",
      "  (282, 0)\t1\n",
      "  (389, 0)\t1\n",
      "  (417, 0)\t1\n",
      "  (458, 0)\t1\n",
      "  (464, 0)\t1\n",
      "  (499, 0)\t1\n",
      "  (534, 0)\t1\n",
      "  (590, 0)\t1\n",
      "  (605, 0)\t1\n",
      "  (620, 0)\t1\n",
      "  (663, 0)\t1\n",
      "  (668, 0)\t1\n",
      "  (743, 0)\t1\n",
      "  :\t:\n",
      "  (62914, 0)\t1\n",
      "  (62918, 0)\t1\n",
      "  (62924, 0)\t1\n",
      "  (62939, 0)\t1\n",
      "  (62956, 0)\t1\n",
      "  (62962, 0)\t1\n",
      "  (62963, 0)\t1\n",
      "  (62969, 0)\t1\n",
      "  (62970, 0)\t1\n",
      "  (62971, 0)\t1\n",
      "  (62972, 0)\t1\n",
      "  (62982, 0)\t1\n",
      "  (62996, 0)\t1\n",
      "  (63004, 0)\t1\n",
      "  (63084, 0)\t1\n",
      "  (63107, 0)\t1\n",
      "  (63120, 0)\t1\n",
      "  (63180, 0)\t1\n",
      "  (63214, 0)\t1\n",
      "  (63292, 0)\t1\n",
      "  (63304, 0)\t1\n",
      "  (63336, 0)\t1\n",
      "  (63368, 0)\t1\n",
      "  (63415, 0)\t1\n",
      "  (63441, 0)\t1\n"
     ]
    }
   ],
   "source": [
    "print('Column for \"different\"\\n' + str(word_matrix[:,125499]))"
   ]
  },
  {
   "cell_type": "markdown",
   "metadata": {},
   "source": [
    "### Part III: Dimensionality Reduction"
   ]
  },
  {
   "cell_type": "markdown",
   "metadata": {},
   "source": [
    "Transforming the feature matrix into a new feature matrix with 10 columns (components) using SVD."
   ]
  },
  {
   "cell_type": "code",
   "execution_count": 14,
   "metadata": {},
   "outputs": [
    {
     "data": {
      "text/plain": [
       "(63542, 10)"
      ]
     },
     "execution_count": 14,
     "metadata": {},
     "output_type": "execute_result"
    }
   ],
   "source": [
    "svd = TruncatedSVD(n_components=10)\n",
    "svd_matrix = svd.fit_transform(word_matrix)\n",
    "svd_matrix.shape"
   ]
  },
  {
   "cell_type": "markdown",
   "metadata": {},
   "source": [
    "Plotting the explain variance ratios of the components."
   ]
  },
  {
   "cell_type": "code",
   "execution_count": 15,
   "metadata": {},
   "outputs": [
    {
     "data": {
      "image/png": "[encoded data removed]",
      "text/plain": [
       "<Figure size 432x288 with 1 Axes>"
      ]
     },
     "metadata": {
      "needs_background": "light"
     },
     "output_type": "display_data"
    }
   ],
   "source": [
    "fig, axes = plt.subplots()\n",
    "axes.scatter(np.linspace(0, 9, 10), svd.explained_variance_ratio_)\n",
    "axes.set_xlabel('Column Index')\n",
    "axes.set_ylabel('Explain Variance Ratio')\n",
    "axes.set_title('Explain Variance Ratio vs. Column Index');"
   ]
  },
  {
   "cell_type": "markdown",
   "metadata": {},
   "source": [
    "The two components with the highest explained variance ratios are the first and second columns (components), (indexes 0 and 1)."
   ]
  },
  {
   "cell_type": "markdown",
   "metadata": {},
   "source": [
    "### Part IV: Visualization"
   ]
  },
  {
   "cell_type": "markdown",
   "metadata": {},
   "source": [
    "Creating a scatter plot using the two components with the highest explained variance ratios."
   ]
  },
  {
   "cell_type": "code",
   "execution_count": 16,
   "metadata": {},
   "outputs": [
    {
     "data": {
      "image/png": "[encoded data removed]",
      "text/plain": [
       "<Figure size 432x288 with 1 Axes>"
      ]
     },
     "metadata": {
      "needs_background": "light"
     },
     "output_type": "display_data"
    }
   ],
   "source": [
    "fig, axes = plt.subplots()\n",
    "axes.scatter(svd_matrix[:,0], svd_matrix[:,1])\n",
    "axes.set_xlabel('Component Highest Variance')\n",
    "axes.set_ylabel('Component 2nd Highest Variance')\n",
    "axes.set_title('Component 2 vs. Component 1');"
   ]
  },
  {
   "cell_type": "markdown",
   "metadata": {},
   "source": [
    "Creating a second scatter plot using the same two components. This time coloring the points based on the category value column of the DataFrame."
   ]
  },
  {
   "cell_type": "code",
   "execution_count": 17,
   "metadata": {},
   "outputs": [
    {
     "data": {
      "image/png": "[encoded data removed]",
      "text/plain": [
       "<Figure size 432x288 with 1 Axes>"
      ]
     },
     "metadata": {
      "needs_background": "light"
     },
     "output_type": "display_data"
    }
   ],
   "source": [
    "fig, axes = plt.subplots()\n",
    "ham_index = np.where(df['category'] == 'ham')\n",
    "spam_index = np.where(df['category'] == 'spam')\n",
    "axes.set_xlabel('Component Highest Variance')\n",
    "axes.set_ylabel('Component 2nd Highest Variance')\n",
    "axes.set_title('Component 2 vs. Component 1')\n",
    "plt.scatter(svd_matrix[ham_index,0], svd_matrix[ham_index,1], color='b', label='ham')\n",
    "plt.scatter(svd_matrix[spam_index,0], svd_matrix[spam_index,1], color='r', label='spam')\n",
    "fig.legend();"
   ]
  },
  {
   "cell_type": "markdown",
   "metadata": {},
   "source": [
    "### Reflection Questions"
   ]
  },
  {
   "cell_type": "markdown",
   "metadata": {},
   "source": [
    "1. When looking at one of the JSON files in a text editor, the pattern is {\"key\": \"value\", repeated 5 times}. The keys are the feature values from our pandas dataframe (category, to_address, from_address, subject, body). The values are different for each file, which correspond to a single row of the dataframe. "
   ]
  },
  {
   "cell_type": "markdown",
   "metadata": {},
   "source": [
    "2. If we assume that a 32-bit (4-byte) floating point value is used to store the counts in a dense matrix instead of our sparse matrix, the memory usage would be much higher. 63542 rows * 300984 cols * 4-bytes / 1,000,000,000 (byte-to-GB-ratio) = ~76.5 GB"
   ]
  },
  {
   "cell_type": "markdown",
   "metadata": {},
   "source": [
    "3. If we assume out sparse matrix uses one 32-bit (4-byte) floating point number and one 32-bit (4-byte) integer for each nonzero entry and one 32-bit (4-byte) integer for each row, the total memory usage would be: 6885706 nonzero entries * 8 bytes per entry + 63542 rows * 4 bytes per row / 1,000,000,000 (byte-to-GB-ratio) = ~.055 GB"
   ]
  },
  {
   "cell_type": "markdown",
   "metadata": {},
   "source": [
    "4. The sparsity ratio is 100 * (6885706 nonzero entries / 1.91*10^10 possible entries) = ~.036"
   ]
  },
  {
   "cell_type": "markdown",
   "metadata": {},
   "source": [
    "5. Based on this analysis, the sparse matrix is better suited for this situation. This is since the sparse matrix contains the same data but takes up ~.072% of the space of the hypothetical dense matrix."
   ]
  },
  {
   "cell_type": "markdown",
   "metadata": {},
   "source": [
    "6. When looking only at the first scatter plot, there are 2 distinct groups of points. I would assume that this pattern appears because one group is spam and the other group is ham."
   ]
  },
  {
   "cell_type": "markdown",
   "metadata": {},
   "source": [
    "7. When looking at the second plot, the lower group is only ham messages. In comparison, all of the spam messages are in the upper group. However, the upper group also contains ham messages, so it is not a perfect division of spam and ham messages."
   ]
  },
  {
   "cell_type": "markdown",
   "metadata": {},
   "source": [
    "### Conclusion"
   ]
  },
  {
   "cell_type": "markdown",
   "metadata": {},
   "source": [
    "Using a SVD method, we were able to reduce the dimensions of our feature matrix to create a matrix of 10 features (components/columns). Looking at the two features with the highest variance, we were able to plot the messages into two distinct groups. All of the spam messages were in one of these groups though other ham messages were also included in this group. Therefore, this model still needs some work but the SVD method allowed us to greater reduce the number of features in the matrix while still allowing features to be predictive."
   ]
  }
 ],
 "metadata": {
  "kernelspec": {
   "display_name": "Python 3",
   "language": "python",
   "name": "python3"
  },
  "language_info": {
   "codemirror_mode": {
    "name": "ipython",
    "version": 3
   },
   "file_extension": ".py",
   "mimetype": "text/x-python",
   "name": "python",
   "nbconvert_exporter": "python",
   "pygments_lexer": "ipython3",
   "version": "3.7.6"
  }
 },
 "nbformat": 4,
 "nbformat_minor": 4
}
