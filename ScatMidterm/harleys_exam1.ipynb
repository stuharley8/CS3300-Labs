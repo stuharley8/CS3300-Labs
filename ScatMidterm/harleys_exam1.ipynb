{
 "cells": [
  {
   "cell_type": "markdown",
   "metadata": {},
   "source": [
    "# CS 3300 Data Science - Exam 1\n",
    "\n",
    "## Stuart Harley"
   ]
  },
  {
   "cell_type": "markdown",
   "metadata": {},
   "source": [
    "### Part I: Introduction and Background"
   ]
  },
  {
   "cell_type": "markdown",
   "metadata": {},
   "source": [
    "Conservation ecology deals with the preservation and management of biodiversity and natural resources. Because of the dramatic effect humans have on our environments, there is an accelerating deterioration of natural systems and a worlldwide epidemic of species extinctions. The goal of conservation ecology is to attempt to conserve species, habitats, and ecosystems. An important part of this field is the tracking of species' populations in order to determine if the species is at risk."
   ]
  },
  {
   "cell_type": "markdown",
   "metadata": {},
   "source": [
    "There are 4 general approaches that are used to monitor or estimate population sizes. They are complete/total counts, incomplete counts, mark-recapture, and indirect counts. Each has their own advantages and disadvantages but in this examination we will be focusing on indirect counts. Indirect counts are used when it is often impossible to obtain visual or auditory counts of the animals in a population. Indirect signs of the animals are used as indices of relative abundance. This means that the abundance of these signs can tell whether a population is increasing, decreasing, or stable. The indirect sign we will be dealing with is scat."
   ]
  },
  {
   "cell_type": "markdown",
   "metadata": {},
   "source": [
    "The coyote, bobcat, and gray fox are all common mammalian mesopredators that can are often found within the same regions of the United States. All three species have a conservation status of \"least concern\", so they are not protected species or at risk of extinction. Since these are elusive animals, conservation ecologists track their populations with their scat because they are easily located in the field and their collection generally causes little disturbance."
   ]
  },
  {
   "cell_type": "markdown",
   "metadata": {},
   "source": [
    "Historically, scat has been identified as belonging to specific species by its morphology (its form). However, the morphological distinctions between scats of coyotes, bobcats, and gray foxes are difficult to discern or properly identify because of the similarities between these animals. Therefore, biogeochemical and contextual traits can also be used to determine the species or origin for these scat samples. In this examination we will be attempting to determine which, if any, morphological and biogeochemical traits distinguish between originating species of the scat samples. We will also attempt to answer why."
   ]
  },
  {
   "cell_type": "markdown",
   "metadata": {},
   "source": [
    "Hypothesis: Differences in the morphological and biogeochemical traits of scat samples makes it possible to distinguish between scat samples of coyotes, bobcats, and gray foxes."
   ]
  },
  {
   "cell_type": "markdown",
   "metadata": {},
   "source": [
    "### Part II: Analysis"
   ]
  },
  {
   "cell_type": "markdown",
   "metadata": {},
   "source": [
    "Importing Libraries"
   ]
  },
  {
   "cell_type": "code",
   "execution_count": 1,
   "metadata": {},
   "outputs": [],
   "source": [
    "import pandas as pd\n",
    "import matplotlib.pyplot as plt\n",
    "import seaborn as sns\n",
    "from scipy import stats"
   ]
  },
  {
   "cell_type": "markdown",
   "metadata": {},
   "source": [
    "Loading in the scat dataset. This dataset contains the morphological, biochemical, and contextual traits of a set of 110 DNA-verified scat samples from coyotes, bobcats, and gray foxes. Location describes the scat location on the trail/road. Number refers to the number of scat pieces in the sample. TI is the ratio of taper length to scat diameter. d13C is a measure of the carbon in the scat and d15N is a measure of the Nitrogen in the scat. These two measures are combined into CN which is the Carbon:Nitrogen ratio of the scat."
   ]
  },
  {
   "cell_type": "code",
   "execution_count": 2,
   "metadata": {},
   "outputs": [],
   "source": [
    "df = pd.read_csv('scat.csv')"
   ]
  },
  {
   "cell_type": "markdown",
   "metadata": {},
   "source": [
    "Converting columns to the correct types."
   ]
  },
  {
   "cell_type": "code",
   "execution_count": 3,
   "metadata": {},
   "outputs": [],
   "source": [
    "df['Species'] = df['Species'].astype('category')\n",
    "df['Month'] = df['Month'].astype('category')\n",
    "df['Site'] = df['Site'].astype('category')\n",
    "df['Location'] = df['Location'].astype('category')\n",
    "df['Age'] = df['Age'].astype('category')\n",
    "df['Number'] = df['Number'].astype('category')\n",
    "df['ropey'] = df['ropey'].map(lambda x: x==1)\n",
    "df['segmented'] = df['segmented'].map(lambda x: x==1)\n",
    "df['flat'] = df['flat'].map(lambda x: x==1)\n",
    "df['scrape'] = df['scrape'].map(lambda x: x==1)"
   ]
  },
  {
   "cell_type": "markdown",
   "metadata": {},
   "source": [
    "There are several anomolies in the data. 19 different samples have missing values (NaN) for one or more variables and therefore should be excluded from any models or calculations involving those variables. These samples did were missing these measurements because the scat had irregular morphologies that rendered those measurements irrelevant. These entries were coded as flat. Therefore, I am dropping any rows that contain NaN values. Also, I will not be evaluating the flat feature as a trait since it is really just an indicator that other information was not able to be collected."
   ]
  },
  {
   "cell_type": "code",
   "execution_count": 4,
   "metadata": {},
   "outputs": [],
   "source": [
    "df = df.dropna()"
   ]
  },
  {
   "cell_type": "code",
   "execution_count": 5,
   "metadata": {},
   "outputs": [
    {
     "data": {
      "text/html": [
       "<div>\n",
       "<style scoped>\n",
       "    .dataframe tbody tr th:only-of-type {\n",
       "        vertical-align: middle;\n",
       "    }\n",
       "\n",
       "    .dataframe tbody tr th {\n",
       "        vertical-align: top;\n",
       "    }\n",
       "\n",
       "    .dataframe thead th {\n",
       "        text-align: right;\n",
       "    }\n",
       "</style>\n",
       "<table border=\"1\" class=\"dataframe\">\n",
       "  <thead>\n",
       "    <tr style=\"text-align: right;\">\n",
       "      <th></th>\n",
       "      <th>Species</th>\n",
       "      <th>Month</th>\n",
       "      <th>Year</th>\n",
       "      <th>Site</th>\n",
       "      <th>Location</th>\n",
       "      <th>Age</th>\n",
       "      <th>Number</th>\n",
       "      <th>Length</th>\n",
       "      <th>Diameter</th>\n",
       "      <th>Taper</th>\n",
       "      <th>TI</th>\n",
       "      <th>Mass</th>\n",
       "      <th>d13C</th>\n",
       "      <th>d15N</th>\n",
       "      <th>CN</th>\n",
       "      <th>ropey</th>\n",
       "      <th>segmented</th>\n",
       "      <th>flat</th>\n",
       "      <th>scrape</th>\n",
       "    </tr>\n",
       "  </thead>\n",
       "  <tbody>\n",
       "    <tr>\n",
       "      <th>0</th>\n",
       "      <td>coyote</td>\n",
       "      <td>January</td>\n",
       "      <td>2012</td>\n",
       "      <td>YOLA</td>\n",
       "      <td>edge</td>\n",
       "      <td>5</td>\n",
       "      <td>2</td>\n",
       "      <td>9.5</td>\n",
       "      <td>25.7</td>\n",
       "      <td>41.9</td>\n",
       "      <td>1.63</td>\n",
       "      <td>15.89</td>\n",
       "      <td>-26.85</td>\n",
       "      <td>6.94</td>\n",
       "      <td>8.5</td>\n",
       "      <td>False</td>\n",
       "      <td>False</td>\n",
       "      <td>False</td>\n",
       "      <td>False</td>\n",
       "    </tr>\n",
       "    <tr>\n",
       "      <th>1</th>\n",
       "      <td>coyote</td>\n",
       "      <td>January</td>\n",
       "      <td>2012</td>\n",
       "      <td>YOLA</td>\n",
       "      <td>edge</td>\n",
       "      <td>3</td>\n",
       "      <td>2</td>\n",
       "      <td>14.0</td>\n",
       "      <td>25.4</td>\n",
       "      <td>37.1</td>\n",
       "      <td>1.46</td>\n",
       "      <td>17.61</td>\n",
       "      <td>-29.62</td>\n",
       "      <td>9.87</td>\n",
       "      <td>11.3</td>\n",
       "      <td>False</td>\n",
       "      <td>False</td>\n",
       "      <td>False</td>\n",
       "      <td>False</td>\n",
       "    </tr>\n",
       "    <tr>\n",
       "      <th>2</th>\n",
       "      <td>bobcat</td>\n",
       "      <td>January</td>\n",
       "      <td>2012</td>\n",
       "      <td>YOLA</td>\n",
       "      <td>middle</td>\n",
       "      <td>3</td>\n",
       "      <td>2</td>\n",
       "      <td>9.0</td>\n",
       "      <td>18.8</td>\n",
       "      <td>16.5</td>\n",
       "      <td>0.88</td>\n",
       "      <td>8.40</td>\n",
       "      <td>-28.73</td>\n",
       "      <td>8.52</td>\n",
       "      <td>8.1</td>\n",
       "      <td>True</td>\n",
       "      <td>True</td>\n",
       "      <td>False</td>\n",
       "      <td>True</td>\n",
       "    </tr>\n",
       "    <tr>\n",
       "      <th>3</th>\n",
       "      <td>coyote</td>\n",
       "      <td>January</td>\n",
       "      <td>2012</td>\n",
       "      <td>YOLA</td>\n",
       "      <td>middle</td>\n",
       "      <td>5</td>\n",
       "      <td>2</td>\n",
       "      <td>8.5</td>\n",
       "      <td>18.1</td>\n",
       "      <td>24.7</td>\n",
       "      <td>1.36</td>\n",
       "      <td>7.40</td>\n",
       "      <td>-20.07</td>\n",
       "      <td>5.79</td>\n",
       "      <td>11.5</td>\n",
       "      <td>True</td>\n",
       "      <td>False</td>\n",
       "      <td>False</td>\n",
       "      <td>False</td>\n",
       "    </tr>\n",
       "    <tr>\n",
       "      <th>4</th>\n",
       "      <td>coyote</td>\n",
       "      <td>January</td>\n",
       "      <td>2012</td>\n",
       "      <td>YOLA</td>\n",
       "      <td>edge</td>\n",
       "      <td>5</td>\n",
       "      <td>4</td>\n",
       "      <td>8.0</td>\n",
       "      <td>20.7</td>\n",
       "      <td>20.1</td>\n",
       "      <td>0.97</td>\n",
       "      <td>25.45</td>\n",
       "      <td>-23.24</td>\n",
       "      <td>7.01</td>\n",
       "      <td>10.6</td>\n",
       "      <td>False</td>\n",
       "      <td>True</td>\n",
       "      <td>False</td>\n",
       "      <td>False</td>\n",
       "    </tr>\n",
       "  </tbody>\n",
       "</table>\n",
       "</div>"
      ],
      "text/plain": [
       "  Species    Month  Year  Site Location Age Number  Length  Diameter  Taper  \\\n",
       "0  coyote  January  2012  YOLA     edge   5      2     9.5      25.7   41.9   \n",
       "1  coyote  January  2012  YOLA     edge   3      2    14.0      25.4   37.1   \n",
       "2  bobcat  January  2012  YOLA   middle   3      2     9.0      18.8   16.5   \n",
       "3  coyote  January  2012  YOLA   middle   5      2     8.5      18.1   24.7   \n",
       "4  coyote  January  2012  YOLA     edge   5      4     8.0      20.7   20.1   \n",
       "\n",
       "     TI   Mass   d13C  d15N    CN  ropey  segmented   flat  scrape  \n",
       "0  1.63  15.89 -26.85  6.94   8.5  False      False  False   False  \n",
       "1  1.46  17.61 -29.62  9.87  11.3  False      False  False   False  \n",
       "2  0.88   8.40 -28.73  8.52   8.1   True       True  False    True  \n",
       "3  1.36   7.40 -20.07  5.79  11.5   True      False  False   False  \n",
       "4  0.97  25.45 -23.24  7.01  10.6  False       True  False   False  "
      ]
     },
     "execution_count": 5,
     "metadata": {},
     "output_type": "execute_result"
    }
   ],
   "source": [
    "df.head()"
   ]
  },
  {
   "cell_type": "code",
   "execution_count": 6,
   "metadata": {},
   "outputs": [
    {
     "name": "stdout",
     "output_type": "stream",
     "text": [
      "<class 'pandas.core.frame.DataFrame'>\n",
      "Int64Index: 91 entries, 0 to 109\n",
      "Data columns (total 19 columns):\n",
      "Species      91 non-null category\n",
      "Month        91 non-null category\n",
      "Year         91 non-null int64\n",
      "Site         91 non-null category\n",
      "Location     91 non-null category\n",
      "Age          91 non-null category\n",
      "Number       91 non-null category\n",
      "Length       91 non-null float64\n",
      "Diameter     91 non-null float64\n",
      "Taper        91 non-null float64\n",
      "TI           91 non-null float64\n",
      "Mass         91 non-null float64\n",
      "d13C         91 non-null float64\n",
      "d15N         91 non-null float64\n",
      "CN           91 non-null float64\n",
      "ropey        91 non-null bool\n",
      "segmented    91 non-null bool\n",
      "flat         91 non-null bool\n",
      "scrape       91 non-null bool\n",
      "dtypes: bool(4), category(6), float64(8), int64(1)\n",
      "memory usage: 9.2 KB\n"
     ]
    }
   ],
   "source": [
    "df.info()"
   ]
  },
  {
   "cell_type": "markdown",
   "metadata": {},
   "source": [
    "Below is a table categorizing each variable as morphological, biogeochemical, contextual, or not a trait."
   ]
  },
  {
   "cell_type": "markdown",
   "metadata": {},
   "source": [
    "| Morphological | Biogeochemical | Contextual | Not a trait |\n",
    "| --- | --- | --- | --- |\n",
    "| | | | Species |\n",
    "| | | Month | |\n",
    "| | | Year | |\n",
    "| | | Site | |\n",
    "| | | Location | |\n",
    "| Age | | | |\n",
    "| Number | | | |\n",
    "| Length | | | |\n",
    "| Diameter | | | |\n",
    "| Taper | | | |\n",
    "| TI | | | |\n",
    "| Mass | | | |\n",
    "| | d13C | | |\n",
    "| | c15N | | |\n",
    "| | CN | | |\n",
    "| Ropey | | | |\n",
    "| Segmented | | | |\n",
    "| | | | Flat |\n",
    "| | | Scrape | |"
   ]
  },
  {
   "cell_type": "markdown",
   "metadata": {},
   "source": [
    "Evaluating the relationships between the morphological and biogeochemical traits and species. I assume normality of the traits since this was tested by Rachel Reid in her paper. The only 2 variables that did not meet the normality assumption in her testing were mass and C:N ratio. Therefore, I also assume d13C and d15N do not meet the assumption of normality."
   ]
  },
  {
   "cell_type": "markdown",
   "metadata": {},
   "source": [
    "Below, for each trait I use the appropriate plot to plot each trait against the species feature. Then I perform the appropriate statistical test for each trait against the species feature."
   ]
  },
  {
   "cell_type": "code",
   "execution_count": 7,
   "metadata": {},
   "outputs": [],
   "source": [
    "df['count'] = 1"
   ]
  },
  {
   "cell_type": "markdown",
   "metadata": {},
   "source": [
    "- Age - Heatmap & Chi Squared Test of Independence"
   ]
  },
  {
   "cell_type": "code",
   "execution_count": 8,
   "metadata": {},
   "outputs": [
    {
     "data": {
      "image/png": "[encoded data removed]",
      "text/plain": [
       "<Figure size 432x288 with 2 Axes>"
      ]
     },
     "metadata": {
      "needs_background": "light"
     },
     "output_type": "display_data"
    }
   ],
   "source": [
    "df2 = df.groupby(['Species', 'Age'], as_index=False).count()\n",
    "sns.heatmap(pd.pivot_table(df2, 'count', 'Age', 'Species'), cmap=\"Blues\");"
   ]
  },
  {
   "cell_type": "code",
   "execution_count": 9,
   "metadata": {},
   "outputs": [
    {
     "name": "stdout",
     "output_type": "stream",
     "text": [
      "p-value: 0.6436774025091659\n"
     ]
    }
   ],
   "source": [
    "combination_counts = df[['Species', 'Age']]\\\n",
    "                    .groupby(by=['Species', 'Age'])\\\n",
    "                    .size().unstack(level=0).fillna(0)\n",
    "chi2, age_p, dof, expected = stats.chi2_contingency(combination_counts)\n",
    "print('p-value: ' + str(age_p))"
   ]
  },
  {
   "cell_type": "markdown",
   "metadata": {},
   "source": [
    "- Number - Heatmap & Chi Squared Test of Independence"
   ]
  },
  {
   "cell_type": "code",
   "execution_count": 10,
   "metadata": {},
   "outputs": [
    {
     "data": {
      "image/png": "[encoded data removed]",
      "text/plain": [
       "<Figure size 432x288 with 2 Axes>"
      ]
     },
     "metadata": {
      "needs_background": "light"
     },
     "output_type": "display_data"
    }
   ],
   "source": [
    "df2 = df.groupby(['Species', 'Number'], as_index=False).count()\n",
    "sns.heatmap(pd.pivot_table(df2, 'count', 'Number', 'Species'), cmap=\"Blues\");"
   ]
  },
  {
   "cell_type": "code",
   "execution_count": 11,
   "metadata": {},
   "outputs": [
    {
     "name": "stdout",
     "output_type": "stream",
     "text": [
      "p-value: 0.5715835863103205\n"
     ]
    }
   ],
   "source": [
    "combination_counts = df[['Species', 'Number']]\\\n",
    "                    .groupby(by=['Species', 'Number'])\\\n",
    "                    .size().unstack(level=0).fillna(0)\n",
    "chi2, number_p, dof, expected = stats.chi2_contingency(combination_counts)\n",
    "print('p-value: ' + str(number_p))"
   ]
  },
  {
   "cell_type": "markdown",
   "metadata": {},
   "source": [
    "- Length - Boxplot & 1-way ANOVA"
   ]
  },
  {
   "cell_type": "code",
   "execution_count": 12,
   "metadata": {},
   "outputs": [
    {
     "data": {
      "image/png": "[encoded data removed]",
      "text/plain": [
       "<Figure size 432x288 with 1 Axes>"
      ]
     },
     "metadata": {
      "needs_background": "light"
     },
     "output_type": "display_data"
    }
   ],
   "source": [
    "df.boxplot(by='Species', column='Length');"
   ]
  },
  {
   "cell_type": "code",
   "execution_count": 13,
   "metadata": {},
   "outputs": [
    {
     "name": "stdout",
     "output_type": "stream",
     "text": [
      "p-value: 0.376070355639486\n"
     ]
    }
   ],
   "source": [
    "samples_by_species = []\n",
    "for value in set(df['Species']):\n",
    "    mask = df['Species'] == value\n",
    "    samples_by_species.append(df['Length'][mask])\n",
    "stat, length_p = stats.f_oneway(*samples_by_species)\n",
    "print('p-value: ' + str(length_p))"
   ]
  },
  {
   "cell_type": "markdown",
   "metadata": {},
   "source": [
    "- Diameter - Boxplot & 1-way ANOVA"
   ]
  },
  {
   "cell_type": "code",
   "execution_count": 14,
   "metadata": {},
   "outputs": [
    {
     "data": {
      "image/png": "[encoded data removed]",
      "text/plain": [
       "<Figure size 432x288 with 1 Axes>"
      ]
     },
     "metadata": {
      "needs_background": "light"
     },
     "output_type": "display_data"
    }
   ],
   "source": [
    "df.boxplot(by='Species', column='Diameter');"
   ]
  },
  {
   "cell_type": "code",
   "execution_count": 15,
   "metadata": {},
   "outputs": [
    {
     "name": "stdout",
     "output_type": "stream",
     "text": [
      "p-value: 4.342371577233711e-06\n"
     ]
    }
   ],
   "source": [
    "samples_by_species = []\n",
    "for value in set(df['Species']):\n",
    "    mask = df['Species'] == value\n",
    "    samples_by_species.append(df['Diameter'][mask])\n",
    "stat, diameter_p = stats.f_oneway(*samples_by_species)\n",
    "print('p-value: ' + str(diameter_p))"
   ]
  },
  {
   "cell_type": "markdown",
   "metadata": {},
   "source": [
    "- Taper - Boxplot & 1-way ANOVA"
   ]
  },
  {
   "cell_type": "code",
   "execution_count": 16,
   "metadata": {},
   "outputs": [
    {
     "data": {
      "image/png": "[encoded data removed]",
      "text/plain": [
       "<Figure size 432x288 with 1 Axes>"
      ]
     },
     "metadata": {
      "needs_background": "light"
     },
     "output_type": "display_data"
    }
   ],
   "source": [
    "df.boxplot(by='Species', column='Taper');"
   ]
  },
  {
   "cell_type": "code",
   "execution_count": 17,
   "metadata": {},
   "outputs": [
    {
     "name": "stdout",
     "output_type": "stream",
     "text": [
      "p-value: 0.07543946700796307\n"
     ]
    }
   ],
   "source": [
    "samples_by_species = []\n",
    "for value in set(df['Species']):\n",
    "    mask = df['Species'] == value\n",
    "    samples_by_species.append(df['Taper'][mask])\n",
    "stat, taper_p = stats.f_oneway(*samples_by_species)\n",
    "print('p-value: ' + str(taper_p))"
   ]
  },
  {
   "cell_type": "markdown",
   "metadata": {},
   "source": [
    "- TI (Taper-length to scat diameter ratio) - Boxplot & 1-way ANOVA"
   ]
  },
  {
   "cell_type": "code",
   "execution_count": 18,
   "metadata": {},
   "outputs": [
    {
     "data": {
      "image/png": "[encoded data removed]",
      "text/plain": [
       "<Figure size 432x288 with 1 Axes>"
      ]
     },
     "metadata": {
      "needs_background": "light"
     },
     "output_type": "display_data"
    }
   ],
   "source": [
    "df.boxplot(by='Species', column='TI');"
   ]
  },
  {
   "cell_type": "code",
   "execution_count": 19,
   "metadata": {},
   "outputs": [
    {
     "name": "stdout",
     "output_type": "stream",
     "text": [
      "p-value: 0.3471629419168677\n"
     ]
    }
   ],
   "source": [
    "samples_by_species = []\n",
    "for value in set(df['Species']):\n",
    "    mask = df['Species'] == value\n",
    "    samples_by_species.append(df['TI'][mask])\n",
    "stat, ti_p = stats.f_oneway(*samples_by_species)\n",
    "print('p-value: ' + str(ti_p))"
   ]
  },
  {
   "cell_type": "markdown",
   "metadata": {},
   "source": [
    "- Mass - Boxplot & Krustak-Wallis Test"
   ]
  },
  {
   "cell_type": "code",
   "execution_count": 20,
   "metadata": {},
   "outputs": [
    {
     "data": {
      "image/png": "[encoded data removed]",
      "text/plain": [
       "<Figure size 432x288 with 1 Axes>"
      ]
     },
     "metadata": {
      "needs_background": "light"
     },
     "output_type": "display_data"
    }
   ],
   "source": [
    "df.boxplot(by='Species', column='Mass');"
   ]
  },
  {
   "cell_type": "code",
   "execution_count": 21,
   "metadata": {},
   "outputs": [
    {
     "name": "stdout",
     "output_type": "stream",
     "text": [
      "p-value: 3.0076046880910635e-06\n"
     ]
    }
   ],
   "source": [
    "samples_by_species = []\n",
    "for value in set(df['Species']):\n",
    "    mask = df['Species'] == value\n",
    "    samples_by_species.append(df['Mass'][mask])\n",
    "stat, mass_p = stats.kruskal(*samples_by_species)\n",
    "print('p-value: ' + str(mass_p))"
   ]
  },
  {
   "cell_type": "markdown",
   "metadata": {},
   "source": [
    "- d13C - Boxplot & Krustak-Wallis Test"
   ]
  },
  {
   "cell_type": "code",
   "execution_count": 22,
   "metadata": {},
   "outputs": [
    {
     "data": {
      "image/png": "[encoded data removed]",
      "text/plain": [
       "<Figure size 432x288 with 1 Axes>"
      ]
     },
     "metadata": {
      "needs_background": "light"
     },
     "output_type": "display_data"
    }
   ],
   "source": [
    "df.boxplot(by='Species', column='d13C');"
   ]
  },
  {
   "cell_type": "code",
   "execution_count": 23,
   "metadata": {},
   "outputs": [
    {
     "name": "stdout",
     "output_type": "stream",
     "text": [
      "p-value: 0.0006792027304102746\n"
     ]
    }
   ],
   "source": [
    "samples_by_species = []\n",
    "for value in set(df['Species']):\n",
    "    mask = df['Species'] == value\n",
    "    samples_by_species.append(df['d13C'][mask])\n",
    "stat, d13C_p = stats.kruskal(*samples_by_species)\n",
    "print('p-value: ' + str(d13C_p))"
   ]
  },
  {
   "cell_type": "markdown",
   "metadata": {},
   "source": [
    "- d15N - Boxplot & Krustak-Wallis Test"
   ]
  },
  {
   "cell_type": "code",
   "execution_count": 24,
   "metadata": {},
   "outputs": [
    {
     "data": {
      "image/png": "[encoded data removed]",
      "text/plain": [
       "<Figure size 432x288 with 1 Axes>"
      ]
     },
     "metadata": {
      "needs_background": "light"
     },
     "output_type": "display_data"
    }
   ],
   "source": [
    "df.boxplot(by='Species', column='d15N');"
   ]
  },
  {
   "cell_type": "code",
   "execution_count": 25,
   "metadata": {},
   "outputs": [
    {
     "name": "stdout",
     "output_type": "stream",
     "text": [
      "p-value: 1.7617323237023882e-05\n"
     ]
    }
   ],
   "source": [
    "samples_by_species = []\n",
    "for value in set(df['Species']):\n",
    "    mask = df['Species'] == value\n",
    "    samples_by_species.append(df['d15N'][mask])\n",
    "stat, d15N_p = stats.kruskal(*samples_by_species)\n",
    "print('p-value: ' + str(d15N_p))"
   ]
  },
  {
   "cell_type": "markdown",
   "metadata": {},
   "source": [
    "- C:N Ratio - Boxplot & Krustal-Wallis Test"
   ]
  },
  {
   "cell_type": "code",
   "execution_count": 26,
   "metadata": {},
   "outputs": [
    {
     "data": {
      "image/png": "[encoded data removed]",
      "text/plain": [
       "<Figure size 432x288 with 1 Axes>"
      ]
     },
     "metadata": {
      "needs_background": "light"
     },
     "output_type": "display_data"
    }
   ],
   "source": [
    "df.boxplot(by='Species', column='CN');"
   ]
  },
  {
   "cell_type": "code",
   "execution_count": 27,
   "metadata": {},
   "outputs": [
    {
     "name": "stdout",
     "output_type": "stream",
     "text": [
      "p-value: 1.733511280849129e-05\n"
     ]
    }
   ],
   "source": [
    "samples_by_species = []\n",
    "for value in set(df['Species']):\n",
    "    mask = df['Species'] == value\n",
    "    samples_by_species.append(df['CN'][mask])\n",
    "stat, CN_p = stats.kruskal(*samples_by_species)\n",
    "print('p-value: ' + str(CN_p))"
   ]
  },
  {
   "cell_type": "markdown",
   "metadata": {},
   "source": [
    "- Ropey - Heatmap & Chi Squared Test of Independence"
   ]
  },
  {
   "cell_type": "code",
   "execution_count": 28,
   "metadata": {},
   "outputs": [
    {
     "data": {
      "image/png": "[encoded data removed]",
      "text/plain": [
       "<Figure size 432x288 with 2 Axes>"
      ]
     },
     "metadata": {
      "needs_background": "light"
     },
     "output_type": "display_data"
    }
   ],
   "source": [
    "df2 = df.groupby(['Species', 'ropey'], as_index=False).count()\n",
    "sns.heatmap(pd.pivot_table(df2, 'count', 'ropey', 'Species'), cmap=\"Blues\");"
   ]
  },
  {
   "cell_type": "code",
   "execution_count": 29,
   "metadata": {},
   "outputs": [
    {
     "name": "stdout",
     "output_type": "stream",
     "text": [
      "p-value: 0.33245321769363256\n"
     ]
    }
   ],
   "source": [
    "combination_counts = df[['Species', 'ropey']]\\\n",
    "                    .groupby(by=['Species', 'ropey'])\\\n",
    "                    .size().unstack(level=0).fillna(0)\n",
    "chi2, ropey_p, dof, expected = stats.chi2_contingency(combination_counts)\n",
    "print('p-value: ' + str(ropey_p))"
   ]
  },
  {
   "cell_type": "markdown",
   "metadata": {},
   "source": [
    "- Segmented - Heatmap & Chi Squared Test of Independence"
   ]
  },
  {
   "cell_type": "code",
   "execution_count": 30,
   "metadata": {},
   "outputs": [
    {
     "data": {
      "image/png": "[encoded data removed]",
      "text/plain": [
       "<Figure size 432x288 with 2 Axes>"
      ]
     },
     "metadata": {
      "needs_background": "light"
     },
     "output_type": "display_data"
    }
   ],
   "source": [
    "df2 = df.groupby(['Species', 'segmented'], as_index=False).count()\n",
    "sns.heatmap(pd.pivot_table(df2, 'count', 'segmented', 'Species'), cmap=\"Blues\");"
   ]
  },
  {
   "cell_type": "code",
   "execution_count": 31,
   "metadata": {},
   "outputs": [
    {
     "name": "stdout",
     "output_type": "stream",
     "text": [
      "p-value: 0.008938136966029308\n"
     ]
    }
   ],
   "source": [
    "combination_counts = df[['Species', 'segmented']]\\\n",
    "                    .groupby(by=['Species', 'segmented'])\\\n",
    "                    .size().unstack(level=0).fillna(0)\n",
    "chi2, segmented_p, dof, expected = stats.chi2_contingency(combination_counts)\n",
    "print('p-value: ' + str(segmented_p))"
   ]
  },
  {
   "cell_type": "markdown",
   "metadata": {},
   "source": [
    "### Part III: Discussion and Interpretation"
   ]
  },
  {
   "cell_type": "markdown",
   "metadata": {},
   "source": [
    "Below is a table of traits that separate at least one species from the rest. I determined this by looking at the p-values of the traits and their associated statistical tests. I am assuming a p-value threshold of .01, but a threshold of .05 would have made no difference. I am also including the mean plus/minus the standard deviation for each species category. (Standard deviation is not applicable to boolean traits). While both the d13C and d15N columns were by this metric predictive, I am only going to continue forward with only the CN ratio which combines the two since this was also predictive."
   ]
  },
  {
   "cell_type": "code",
   "execution_count": 32,
   "metadata": {},
   "outputs": [],
   "source": [
    "bobcat_df = df[df['Species']=='bobcat']\n",
    "coyote_df = df[df['Species']=='coyote']\n",
    "fox_df = df[df['Species']=='gray_fox']\n",
    "# bobcat_df.mean() , coyote_df.mean(), fox_df.mean()\n",
    "# bobcat_df.std(), coyote_df.std(), fox_df.std()"
   ]
  },
  {
   "cell_type": "markdown",
   "metadata": {},
   "source": [
    "| Predictive Trait | p-value | Bobcat Mean ± Std Dev | Coyote Mean ± Std Dev | Gray Fox Mean ± Std Dev |\n",
    "| --- | --- | --- | --- | --- |\n",
    "| Diameter | 4.342e-06 | 18.60±2.71 | 20.47±4.71 | 14.67±3.36 |\n",
    "| Mass | 3.007e-06 | 12.11±6.25 | 18.65±12.62 | 5.02±2.20 |\n",
    "| C:N Ratio | 1.733e-05 | 6.64±1.10 | 8.58±2.48 | 10.28±5.16 |\n",
    "| Segmented | 8.938e-03 | 74% | 50% | 35.29% |"
   ]
  },
  {
   "cell_type": "markdown",
   "metadata": {},
   "source": [
    "For the diameter trait, coyotes had the largest diameter followed closely by bobcats, and then the smallest was gray foxes. This makes sense since coyotes weigh between 22 to 45 pounds, bobcats weigh between 9 to 33 pounds, and gray foxes are smallest weighing between 7 to 14 pounds. Since gray foxes weigh least, their scat should be smaller, aka a smaller diameter, while bobcats and coyotes' scat is a larger diameter because they are larger animals."
   ]
  },
  {
   "cell_type": "markdown",
   "metadata": {},
   "source": [
    "The same principle holds true for the mass of the scats. The coyotes are the largest so they have the heaviest scat. Followed by the bobcats which have the next heaviest scats and then the gray foxes have the lightest scats."
   ]
  },
  {
   "cell_type": "markdown",
   "metadata": {},
   "source": [
    "The C:N ratio depends on the diet of the animal. Animals that are strictly carnivores have a lower C:N ratio while herbivores have higher C:N ratios. This is because terrestrial plants tend to have high C:N ratios, while animals tend to be much more nutrient rich and therefore have much lower C:N ratios. Therefore, bobcats, which are obligatory predators, have the lowest C:N ratio. Compared to coyotes and gray foxes which both incorporate plants, mainly fruits, into their diets, which causes them to have higher C:N ratios."
   ]
  },
  {
   "cell_type": "markdown",
   "metadata": {},
   "source": [
    "In terms of the scats being segemented, I would assume that the diet of the animals would also affect this in the same way as the C:N ratio. Aka the carnivores are more likely to have segmented feces while the animals that incorporate more plant matter into their diets are less likely to have segmented feces."
   ]
  },
  {
   "cell_type": "markdown",
   "metadata": {},
   "source": [
    "Predictive morphological and biogeochemical traits might be more useful than contextual traits to ecologists. This is because contextual traits do not generalize well for models. Also, contextual information is often lacking, particularily when many scats are collected at once. It can be easy to miss a small scrape or track or other piece of contextual information. Also, the landscape is affected by weather conditions and other animals which can interfere with contextual information. In comparison, since you are collected the scats, you are able to analyze them precisely once they are back in a lab. All that is required for accurate results is to find the scat in the first place and complete an appropriate analysis."
   ]
  },
  {
   "cell_type": "markdown",
   "metadata": {},
   "source": [
    "### IV: Conclusion"
   ]
  },
  {
   "cell_type": "markdown",
   "metadata": {},
   "source": [
    "Given the results of the statistical tests, it is shown that there are statistically significant differences between the morphological and biogeochemical traits of bobcat, coyote, and gray fox scat that likely separates them enough to somewhat accurately classify the scats by species. Specifically these traits are diameter, mass, C:N ratio, and whether or not the scat is segmented. In order to continue or expand on this work, someone could be use these traits to make a model that could be used to predict which species produced collected scat. This model could help conservational ecologists more easily classify between bobcat, coyote, and gray wolf scat which could allow them to spend the resources they would have had to spend on this classification elsewhere."
   ]
  },
  {
   "cell_type": "markdown",
   "metadata": {},
   "source": [
    "### References\n",
    "\n",
    "NCSU. Estimating Wildlife Populations. https://projects.ncsu.edu/cals/course/fw353/Estimate.htm\n",
    "\n",
    "Reid, R. A Morphometric Modeling Approach to Distiguishing among Bobcat, Coyote, and Gray Fox Scats. Wildlife Biology, 21(5): 254-262. https://doi.org/10.2981/wlb.00105\n",
    "\n",
    "Smithsonian's National Zoo & Conservation Biology Institute. Bobcat. https://nationalzoo.si.edu/animals/bobcat\n",
    "\n",
    "SUNY ESF. Gray Fox. https://www.esf.edu/aec/adks/mammals/gray_fox.htm\n",
    "\n",
    "Texas AgriLife Extension. Managing Suburban Coyotes. https://agrilife.org/txwildlifeservices/files/2016/08/SuburbanCoyotes.pdf"
   ]
  }
 ],
 "metadata": {
  "kernelspec": {
   "display_name": "Python 3",
   "language": "python",
   "name": "python3"
  },
  "language_info": {
   "codemirror_mode": {
    "name": "ipython",
    "version": 3
   },
   "file_extension": ".py",
   "mimetype": "text/x-python",
   "name": "python",
   "nbconvert_exporter": "python",
   "pygments_lexer": "ipython3",
   "version": "3.8.3"
  }
 },
 "nbformat": 4,
 "nbformat_minor": 4
}
