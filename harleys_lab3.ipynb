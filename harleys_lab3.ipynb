{
 "cells": [
  {
   "cell_type": "markdown",
   "metadata": {},
   "source": [
    "# CS 3300 Data Science - Lab 3: Exploratory Data Analysis with Statistical Testing\n",
    "\n",
    "## Stuart Harley\n",
    "\n",
    "### Introduction"
   ]
  },
  {
   "cell_type": "markdown",
   "metadata": {},
   "source": [
    "In this lab, we are exploring statistical tests. We first go through an introductory problem that explores the Two-Sample T-Test. We then identify some of the important information about a test for correlation based on linear regression, the Kruskal-Wallis test, and the Ch-Squared test of Goodness of Fit. Finally, we explore the San Francisco real estate data that we have cleaned in Lab 1. In Lab 2 we made predictions about correlations and associations between features which we will confirm or deny in this lab using the appropriate statistical tests."
   ]
  },
  {
   "cell_type": "markdown",
   "metadata": {},
   "source": [
    "### Importing Libraries"
   ]
  },
  {
   "cell_type": "code",
   "execution_count": 1,
   "metadata": {},
   "outputs": [],
   "source": [
    "import pandas as pd\n",
    "from scipy import stats"
   ]
  },
  {
   "cell_type": "markdown",
   "metadata": {},
   "source": [
    "### Part I: Review of Statistical Tests"
   ]
  },
  {
   "cell_type": "markdown",
   "metadata": {},
   "source": [
    "Let' say you decide you want to know if playing video games impacts students' grades. You set up a survey which asks students two questions:"
   ]
  },
  {
   "cell_type": "markdown",
   "metadata": {},
   "source": [
    "1. Do you play video games regularly? Yes / No\n",
    "2. What is your GPA?"
   ]
  },
  {
   "cell_type": "markdown",
   "metadata": {},
   "source": [
    "a. Hypothesis: Students' playing of video games will not affect their grades."
   ]
  },
  {
   "cell_type": "markdown",
   "metadata": {},
   "source": [
    "You now decide to look at the survey results. You have 100 responses! 68 students said they play video games regularly, while 32 students said they did not. The 68 gamers have an average GPA of 3.4 with a standard deviation of 1.2, while the 32 non-gamers have an average GPA of 3.3 with a standard deviation of 1.1."
   ]
  },
  {
   "cell_type": "markdown",
   "metadata": {},
   "source": [
    "b. You use a Two-Sample T-Test when you have a boolean variable and a numerical variable. The situation above meets these criteria. The T-Test assumes that the data comes from a normal distribution which may not hold here."
   ]
  },
  {
   "cell_type": "markdown",
   "metadata": {},
   "source": [
    "c. Null Hypothesis: The means of the student's GPAs are equal for the group that plays video games and the group that doesn't.\n",
    "\n",
    "Alternative Hypothesis: The means of the student's GPAs are not equal for the group that plays video games and the group that doesn't."
   ]
  },
  {
   "cell_type": "markdown",
   "metadata": {},
   "source": [
    "d. Performing a T-Test on the data from above."
   ]
  },
  {
   "cell_type": "code",
   "execution_count": 2,
   "metadata": {},
   "outputs": [
    {
     "data": {
      "text/plain": [
       "Ttest_indResult(statistic=0.39893881176878243, pvalue=0.6908062583072547)"
      ]
     },
     "execution_count": 2,
     "metadata": {},
     "output_type": "execute_result"
    }
   ],
   "source": [
    "stats.ttest_ind_from_stats(mean1=3.4, std1=1.2, nobs1=68, \\\n",
    "                           mean2=3.3, std2=1.1, nobs2=32)"
   ]
  },
  {
   "cell_type": "markdown",
   "metadata": {},
   "source": [
    "Our calculated p-value is 0.69. We are interpreting our p-value with a significance threshold of 0.01. Therefore, we are not able to reject the null hypothesis because our p-value is greater than the threshold. This means that the differences in GPAs of the two groups are not statistically significant."
   ]
  },
  {
   "cell_type": "markdown",
   "metadata": {},
   "source": [
    "e. The evidence from the T-Test supports my original hypothesis, that students who play video games will not have their grades affected."
   ]
  },
  {
   "cell_type": "markdown",
   "metadata": {},
   "source": [
    "### Part II: Exploring Additional Statistical Tests"
   ]
  },
  {
   "cell_type": "markdown",
   "metadata": {},
   "source": [
    "1. Test for Correlation based on Linear Regression\n",
    "\n",
    "a. Used for 2 numerical variables\n",
    "\n",
    "b. Null Hypothesis: The slope of the best-fit line is equal to zero.\n",
    "\n",
    "Alternative Hypothesis: The slope of the best-fit line not is equal to zero.\n",
    "\n",
    "c. If the test indicates statistical significance, then the two variables are correlated. If the test does not indicate statistical significance, then the two variables are not correlated."
   ]
  },
  {
   "cell_type": "markdown",
   "metadata": {},
   "source": [
    "2. Kruskal-Wallis Test\n",
    "\n",
    "a. Used for 1 categorical variable and 1 numerical variable. You convert the numerical variables to relative ranked value. This test does not assume that the data comes from normal distributions.\n",
    "\n",
    "b. Null Hypothesis: The mean ranks of the groups are the same.\n",
    "\n",
    "c. If the test indicates statistical significance, then the variables are associated. If the test does not indicate statistical significance, then the variables are not associated."
   ]
  },
  {
   "cell_type": "markdown",
   "metadata": {},
   "source": [
    "3. Chi-Squared Test of Goodness of Fit\n",
    "\n",
    "a. Used for 1 categorical variable when you want to see if the number of observations in each category fits a theoretical expectation. The sample size is assumed to be large.\n",
    "\n",
    "b. Null Hypothesis: The number of observations in each category is sampled form the expected distribution.\n",
    "\n",
    "Alternative Hypothesis: The number of observations in each category is not sampled from the expected distribution.\n",
    "\n",
    "c. If the test indicates statistical significance, then the data is not sampled from the expected distribution. If the test does not indicate statistical significance, then the data is sampled from the expected distribution."
   ]
  },
  {
   "cell_type": "markdown",
   "metadata": {},
   "source": [
    "### Part III: Regression on Price"
   ]
  },
  {
   "cell_type": "markdown",
   "metadata": {},
   "source": [
    "a. Loading in the cleaned data set from Lab 1."
   ]
  },
  {
   "cell_type": "code",
   "execution_count": 3,
   "metadata": {},
   "outputs": [
    {
     "data": {
      "text/html": [
       "<div>\n",
       "<style scoped>\n",
       "    .dataframe tbody tr th:only-of-type {\n",
       "        vertical-align: middle;\n",
       "    }\n",
       "\n",
       "    .dataframe tbody tr th {\n",
       "        vertical-align: top;\n",
       "    }\n",
       "\n",
       "    .dataframe thead th {\n",
       "        text-align: right;\n",
       "    }\n",
       "</style>\n",
       "<table border=\"1\" class=\"dataframe\">\n",
       "  <thead>\n",
       "    <tr style=\"text-align: right;\">\n",
       "      <th></th>\n",
       "      <th>street</th>\n",
       "      <th>city</th>\n",
       "      <th>zip</th>\n",
       "      <th>state</th>\n",
       "      <th>beds</th>\n",
       "      <th>baths</th>\n",
       "      <th>sq__ft</th>\n",
       "      <th>type</th>\n",
       "      <th>sale_date</th>\n",
       "      <th>price</th>\n",
       "      <th>latitude</th>\n",
       "      <th>longitude</th>\n",
       "      <th>empty_lot</th>\n",
       "      <th>street_type</th>\n",
       "    </tr>\n",
       "  </thead>\n",
       "  <tbody>\n",
       "    <tr>\n",
       "      <th>0</th>\n",
       "      <td>3526 HIGH ST</td>\n",
       "      <td>SACRAMENTO</td>\n",
       "      <td>95838</td>\n",
       "      <td>CA</td>\n",
       "      <td>2</td>\n",
       "      <td>1</td>\n",
       "      <td>836</td>\n",
       "      <td>Residential</td>\n",
       "      <td>Wed May 21 00:00:00 EDT 2008</td>\n",
       "      <td>59222</td>\n",
       "      <td>38.631913</td>\n",
       "      <td>-121.434879</td>\n",
       "      <td>False</td>\n",
       "      <td>ST</td>\n",
       "    </tr>\n",
       "    <tr>\n",
       "      <th>1</th>\n",
       "      <td>51 OMAHA CT</td>\n",
       "      <td>SACRAMENTO</td>\n",
       "      <td>95823</td>\n",
       "      <td>CA</td>\n",
       "      <td>3</td>\n",
       "      <td>1</td>\n",
       "      <td>1167</td>\n",
       "      <td>Residential</td>\n",
       "      <td>Wed May 21 00:00:00 EDT 2008</td>\n",
       "      <td>68212</td>\n",
       "      <td>38.478902</td>\n",
       "      <td>-121.431028</td>\n",
       "      <td>False</td>\n",
       "      <td>CT</td>\n",
       "    </tr>\n",
       "    <tr>\n",
       "      <th>2</th>\n",
       "      <td>2796 BRANCH ST</td>\n",
       "      <td>SACRAMENTO</td>\n",
       "      <td>95815</td>\n",
       "      <td>CA</td>\n",
       "      <td>2</td>\n",
       "      <td>1</td>\n",
       "      <td>796</td>\n",
       "      <td>Residential</td>\n",
       "      <td>Wed May 21 00:00:00 EDT 2008</td>\n",
       "      <td>68880</td>\n",
       "      <td>38.618305</td>\n",
       "      <td>-121.443839</td>\n",
       "      <td>False</td>\n",
       "      <td>ST</td>\n",
       "    </tr>\n",
       "    <tr>\n",
       "      <th>3</th>\n",
       "      <td>2805 JANETTE WAY</td>\n",
       "      <td>SACRAMENTO</td>\n",
       "      <td>95815</td>\n",
       "      <td>CA</td>\n",
       "      <td>2</td>\n",
       "      <td>1</td>\n",
       "      <td>852</td>\n",
       "      <td>Residential</td>\n",
       "      <td>Wed May 21 00:00:00 EDT 2008</td>\n",
       "      <td>69307</td>\n",
       "      <td>38.616835</td>\n",
       "      <td>-121.439146</td>\n",
       "      <td>False</td>\n",
       "      <td>WAY</td>\n",
       "    </tr>\n",
       "    <tr>\n",
       "      <th>4</th>\n",
       "      <td>6001 MCMAHON DR</td>\n",
       "      <td>SACRAMENTO</td>\n",
       "      <td>95824</td>\n",
       "      <td>CA</td>\n",
       "      <td>2</td>\n",
       "      <td>1</td>\n",
       "      <td>797</td>\n",
       "      <td>Residential</td>\n",
       "      <td>Wed May 21 00:00:00 EDT 2008</td>\n",
       "      <td>81900</td>\n",
       "      <td>38.519470</td>\n",
       "      <td>-121.435768</td>\n",
       "      <td>False</td>\n",
       "      <td>DR</td>\n",
       "    </tr>\n",
       "  </tbody>\n",
       "</table>\n",
       "</div>"
      ],
      "text/plain": [
       "             street        city    zip state beds baths  sq__ft         type  \\\n",
       "0      3526 HIGH ST  SACRAMENTO  95838    CA    2     1     836  Residential   \n",
       "1       51 OMAHA CT  SACRAMENTO  95823    CA    3     1    1167  Residential   \n",
       "2    2796 BRANCH ST  SACRAMENTO  95815    CA    2     1     796  Residential   \n",
       "3  2805 JANETTE WAY  SACRAMENTO  95815    CA    2     1     852  Residential   \n",
       "4   6001 MCMAHON DR  SACRAMENTO  95824    CA    2     1     797  Residential   \n",
       "\n",
       "                      sale_date  price   latitude   longitude  empty_lot  \\\n",
       "0  Wed May 21 00:00:00 EDT 2008  59222  38.631913 -121.434879      False   \n",
       "1  Wed May 21 00:00:00 EDT 2008  68212  38.478902 -121.431028      False   \n",
       "2  Wed May 21 00:00:00 EDT 2008  68880  38.618305 -121.443839      False   \n",
       "3  Wed May 21 00:00:00 EDT 2008  69307  38.616835 -121.439146      False   \n",
       "4  Wed May 21 00:00:00 EDT 2008  81900  38.519470 -121.435768      False   \n",
       "\n",
       "  street_type  \n",
       "0          ST  \n",
       "1          CT  \n",
       "2          ST  \n",
       "3         WAY  \n",
       "4          DR  "
      ]
     },
     "execution_count": 3,
     "metadata": {},
     "output_type": "execute_result"
    }
   ],
   "source": [
    "df = pd.read_csv('CleanedSacramentorealestatetransactions.csv', \\\n",
    "                dtype={'city': 'category', 'zip': 'category', \\\n",
    "                      'state': 'category', 'beds': 'category', \\\n",
    "                      'baths': 'category', 'type': 'category', \\\n",
    "                      'street_type': 'category'})\n",
    "df.head()"
   ]
  },
  {
   "cell_type": "code",
   "execution_count": 4,
   "metadata": {},
   "outputs": [
    {
     "name": "stdout",
     "output_type": "stream",
     "text": [
      "<class 'pandas.core.frame.DataFrame'>\n",
      "RangeIndex: 984 entries, 0 to 983\n",
      "Data columns (total 14 columns):\n",
      "street         984 non-null object\n",
      "city           984 non-null category\n",
      "zip            984 non-null category\n",
      "state          984 non-null category\n",
      "beds           984 non-null category\n",
      "baths          984 non-null category\n",
      "sq__ft         984 non-null int64\n",
      "type           984 non-null category\n",
      "sale_date      984 non-null object\n",
      "price          984 non-null int64\n",
      "latitude       984 non-null float64\n",
      "longitude      984 non-null float64\n",
      "empty_lot      984 non-null bool\n",
      "street_type    984 non-null category\n",
      "dtypes: bool(1), category(7), float64(2), int64(2), object(2)\n",
      "memory usage: 60.0+ KB\n"
     ]
    }
   ],
   "source": [
    "df.info()"
   ]
  },
  {
   "cell_type": "markdown",
   "metadata": {},
   "source": [
    "b. For each continuous variable, fitting a simple linear regression model, estimating the Pearson correlation coefficient (r-value), and the statistical significance (p-value) of the correlation against the price of the property."
   ]
  },
  {
   "cell_type": "code",
   "execution_count": 5,
   "metadata": {},
   "outputs": [],
   "source": [
    "slope, intercept, r, sq_ft_p, stderr = stats.linregress(df['price'], df['sq__ft'])\n",
    "slope, intercept, r, lat_p, stderr = stats.linregress(df['price'], df['latitude'])\n",
    "slope, intercept, r, long_p, stderr = stats.linregress(df['price'], df['longitude'])"
   ]
  },
  {
   "cell_type": "markdown",
   "metadata": {},
   "source": [
    "| Variable | p-value | Statistically Significant Relationship at Threshold = 0.01 |\n",
    "| --- | --- | --- |\n",
    "| Sq Ft | 3.386e-27 | Yes |\n",
    "| Latitude | .214 | No |\n",
    "| Longitude | 7.281e-20 | Yes |"
   ]
  },
  {
   "cell_type": "markdown",
   "metadata": {},
   "source": [
    "c. For each categorical variable, using a Kruskal-Wallis test to test for an association between the categorical varible and the price of the property."
   ]
  },
  {
   "cell_type": "code",
   "execution_count": 6,
   "metadata": {},
   "outputs": [],
   "source": [
    "samples_by_city = []\n",
    "for value in set(df['city']):\n",
    "    mask = df['city'] == value\n",
    "    samples_by_city.append(df['price'][mask])\n",
    "stat, city_p = stats.kruskal(*samples_by_city)"
   ]
  },
  {
   "cell_type": "code",
   "execution_count": 7,
   "metadata": {},
   "outputs": [],
   "source": [
    "samples_by_zip = []\n",
    "for value in set(df['zip']):\n",
    "    mask = df['zip'] == value\n",
    "    samples_by_zip.append(df['price'][mask])\n",
    "stat, zip_p = stats.kruskal(*samples_by_zip)"
   ]
  },
  {
   "cell_type": "markdown",
   "metadata": {},
   "source": [
    "Can't compute for State because there is only 1 category in state. Therefore, there is also no association because every price has the same state value. "
   ]
  },
  {
   "cell_type": "code",
   "execution_count": 8,
   "metadata": {},
   "outputs": [],
   "source": [
    "samples_by_beds = []\n",
    "for value in set(df['beds']):\n",
    "    mask = df['beds'] == value\n",
    "    samples_by_beds.append(df['price'][mask])\n",
    "stat, beds_p = stats.kruskal(*samples_by_beds)"
   ]
  },
  {
   "cell_type": "code",
   "execution_count": 9,
   "metadata": {},
   "outputs": [],
   "source": [
    "samples_by_baths = []\n",
    "for value in set(df['baths']):\n",
    "    mask = df['baths'] == value\n",
    "    samples_by_baths.append(df['price'][mask])\n",
    "stat, baths_p = stats.kruskal(*samples_by_baths)"
   ]
  },
  {
   "cell_type": "code",
   "execution_count": 10,
   "metadata": {},
   "outputs": [],
   "source": [
    "samples_by_type = []\n",
    "for value in set(df['type']):\n",
    "    mask = df['type'] == value\n",
    "    samples_by_type.append(df['price'][mask])\n",
    "stat, type_p = stats.kruskal(*samples_by_type)"
   ]
  },
  {
   "cell_type": "code",
   "execution_count": 11,
   "metadata": {},
   "outputs": [],
   "source": [
    "samples_by_empty_lot = []\n",
    "for value in set(df['empty_lot']):\n",
    "    mask = df['empty_lot'] == value\n",
    "    samples_by_empty_lot.append(df['price'][mask])\n",
    "stat, empty_lot_p = stats.kruskal(*samples_by_empty_lot)"
   ]
  },
  {
   "cell_type": "code",
   "execution_count": 12,
   "metadata": {},
   "outputs": [],
   "source": [
    "samples_by_street_type = []\n",
    "for value in set(df['street_type']):\n",
    "    mask = df['street_type'] == value\n",
    "    samples_by_street_type.append(df['price'][mask])\n",
    "stat, street_type_p = stats.kruskal(*samples_by_street_type)"
   ]
  },
  {
   "cell_type": "markdown",
   "metadata": {},
   "source": [
    "| Variable | p-value | Statistically Significant Relationship at Threshold = 0.01 |\n",
    "| --- | --- | --- |\n",
    "| City | 3.714e-49 | Yes |\n",
    "| Zip | 2.793e-65 | Yes |\n",
    "| State | NA | No |\n",
    "| Beds | 7.751e-38 | Yes |\n",
    "| Baths | 9.614e-51 | Yes |\n",
    "| Type | 3.207e-07 | Yes |\n",
    "| Empty_Lot | .043 | No |\n",
    "| Street_Type | 1.435e-15 | Yes |"
   ]
  },
  {
   "cell_type": "markdown",
   "metadata": {},
   "source": [
    "d. The results of the statistical tests mostly line up with the results from my analysis of the visualizations of variable pairs from Lab 2. The only result that disagrees is that the street type is shown to have a significant association with price in the Kruskal-Wallis Test. But I did not determine that association from looking at the visualization in Lab 2. However, I was unsure about this relationship while completing Lab 2, so evidently I was incorrect at the time."
   ]
  },
  {
   "cell_type": "markdown",
   "metadata": {},
   "source": [
    "### Part IV: Classification of Property Type"
   ]
  },
  {
   "cell_type": "markdown",
   "metadata": {},
   "source": [
    "a. For each continuous variable, using a Kruskal-Wallis test to test for an association between the continuous variable and the type of the property."
   ]
  },
  {
   "cell_type": "code",
   "execution_count": 13,
   "metadata": {},
   "outputs": [],
   "source": [
    "samples_by_type = []\n",
    "for value in set(df['type']):\n",
    "    mask = df['type'] == value\n",
    "    samples_by_type.append(df['sq__ft'][mask])\n",
    "stat, sq_ft_p = stats.kruskal(*samples_by_type)"
   ]
  },
  {
   "cell_type": "code",
   "execution_count": 14,
   "metadata": {},
   "outputs": [],
   "source": [
    "samples_by_type = []\n",
    "for value in set(df['type']):\n",
    "    mask = df['type'] == value\n",
    "    samples_by_type.append(df['price'][mask])\n",
    "stat, price_p = stats.kruskal(*samples_by_type)"
   ]
  },
  {
   "cell_type": "code",
   "execution_count": 15,
   "metadata": {},
   "outputs": [],
   "source": [
    "samples_by_type = []\n",
    "for value in set(df['type']):\n",
    "    mask = df['type'] == value\n",
    "    samples_by_type.append(df['latitude'][mask])\n",
    "stat, latitude_p = stats.kruskal(*samples_by_type)"
   ]
  },
  {
   "cell_type": "code",
   "execution_count": 16,
   "metadata": {},
   "outputs": [],
   "source": [
    "samples_by_type = []\n",
    "for value in set(df['type']):\n",
    "    mask = df['type'] == value\n",
    "    samples_by_type.append(df['longitude'][mask])\n",
    "stat, longitude_p = stats.kruskal(*samples_by_type)"
   ]
  },
  {
   "cell_type": "markdown",
   "metadata": {},
   "source": [
    "| Variable | p-value | Statistically Significant Relationship at Threshold = 0.01 |\n",
    "| --- | --- | --- |\n",
    "| Sq Ft | 1.694e-12 | Yes |\n",
    "| Price | 3.207e-07 | Yes |\n",
    "| Latitude | .306 | No |\n",
    "| Longitude | .802 | No |"
   ]
  },
  {
   "cell_type": "markdown",
   "metadata": {},
   "source": [
    "b. For each categorical variable, using a Chi-Squared Test of Independence to test for an association between the categorical variable and the type of the property."
   ]
  },
  {
   "cell_type": "code",
   "execution_count": 17,
   "metadata": {},
   "outputs": [],
   "source": [
    "combination_counts = df[['type', 'city']]\\\n",
    "                    .groupby(by=['type', 'city'])\\\n",
    "                    .size().unstack(level=0).fillna(0)\n",
    "chi2, city_p, dof, expected = stats.chi2_contingency(combination_counts)"
   ]
  },
  {
   "cell_type": "code",
   "execution_count": 18,
   "metadata": {},
   "outputs": [],
   "source": [
    "combination_counts = df[['type', 'zip']]\\\n",
    "                    .groupby(by=['type', 'zip'])\\\n",
    "                    .size().unstack(level=0).fillna(0)\n",
    "chi2, zip_p, dof, expected = stats.chi2_contingency(combination_counts)"
   ]
  },
  {
   "cell_type": "code",
   "execution_count": 19,
   "metadata": {},
   "outputs": [],
   "source": [
    "combination_counts = df[['type', 'state']]\\\n",
    "                    .groupby(by=['type', 'state'])\\\n",
    "                    .size().unstack(level=0).fillna(0)\n",
    "chi2, state_p, dof, expected = stats.chi2_contingency(combination_counts)"
   ]
  },
  {
   "cell_type": "code",
   "execution_count": 20,
   "metadata": {},
   "outputs": [],
   "source": [
    "combination_counts = df[['type', 'beds']]\\\n",
    "                    .groupby(by=['type', 'beds'])\\\n",
    "                    .size().unstack(level=0).fillna(0)\n",
    "chi2, beds_p, dof, expected = stats.chi2_contingency(combination_counts)"
   ]
  },
  {
   "cell_type": "code",
   "execution_count": 21,
   "metadata": {},
   "outputs": [],
   "source": [
    "combination_counts = df[['type', 'baths']]\\\n",
    "                    .groupby(by=['type', 'baths'])\\\n",
    "                    .size().unstack(level=0).fillna(0)\n",
    "chi2, baths_p, dof, expected = stats.chi2_contingency(combination_counts)"
   ]
  },
  {
   "cell_type": "code",
   "execution_count": 22,
   "metadata": {},
   "outputs": [],
   "source": [
    "combination_counts = df[['type', 'empty_lot']]\\\n",
    "                    .groupby(by=['type', 'empty_lot'])\\\n",
    "                    .size().unstack(level=0).fillna(0)\n",
    "chi2, empty_lot_p, dof, expected = stats.chi2_contingency(combination_counts)"
   ]
  },
  {
   "cell_type": "code",
   "execution_count": 23,
   "metadata": {},
   "outputs": [],
   "source": [
    "combination_counts = df[['type', 'street_type']]\\\n",
    "                    .groupby(by=['type', 'street_type'])\\\n",
    "                    .size().unstack(level=0).fillna(0)\n",
    "chi2, street_type_p, dof, expected = stats.chi2_contingency(combination_counts)"
   ]
  },
  {
   "cell_type": "markdown",
   "metadata": {},
   "source": [
    "| Variable | p-value | Statistically Significant Relationship at Threshold = 0.01 |\n",
    "| --- | --- | --- |\n",
    "| City | .969 | No |\n",
    "| Zip | 1.069e-4 | Yes |\n",
    "| State | 1.0 | No |\n",
    "| Beds | 1.817e-67 | Yes |\n",
    "| Baths | 6.407e-43 | Yes |\n",
    "| Empty_Lot | .162 | No |\n",
    "| Street_Type | 2.361e-16 | Yes |"
   ]
  },
  {
   "cell_type": "markdown",
   "metadata": {},
   "source": [
    "c. The results of the statistical tests mostly line up with the results from my analysis of the visualizations of variable pairs from Lab 2. The only result that disagrees is that the city is shown to not have a significant association with type in the Chi-Squared Test of Independence. But I did determine that association from looking at the visualization in Lab 2. However, I was unsure about this relationship while completing Lab 2, becuase the heatmaps were difficult to read since the amount of types was very uneven, so evidently I was incorrect at the time."
   ]
  },
  {
   "cell_type": "markdown",
   "metadata": {},
   "source": [
    "### Conclusion\n",
    "\n",
    "Visualizing your data in plots and graphs is helpful to better understand your data and make some preliminary assumptions about correlations and associations between features. However, it is also important to run statistical tests on the data in order to confirm what your visualizations appear to tell you."
   ]
  }
 ],
 "metadata": {
  "kernelspec": {
   "display_name": "Python 3",
   "language": "python",
   "name": "python3"
  },
  "language_info": {
   "codemirror_mode": {
    "name": "ipython",
    "version": 3
   },
   "file_extension": ".py",
   "mimetype": "text/x-python",
   "name": "python",
   "nbconvert_exporter": "python",
   "pygments_lexer": "ipython3",
   "version": "3.8.3"
  }
 },
 "nbformat": 4,
 "nbformat_minor": 4
}
