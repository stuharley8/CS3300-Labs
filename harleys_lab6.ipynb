{
 "cells": [
  {
   "cell_type": "markdown",
   "metadata": {},
   "source": [
    "# CS 3300 Data Science - Lab 6: Exploratory Data Analysis with Clustering\n",
    "\n",
    "## Stuart Harley\n",
    "\n",
    "### Introduction"
   ]
  },
  {
   "cell_type": "markdown",
   "metadata": {},
   "source": [
    "In this lab we are continuing our exploration of our json emails. As in the last lab, we perform dimensionality reduction using the Truncated SVD method. Then we cluster the data use a clustering approach, I used DBSCAN. We cluster the emails into two distinct clusters using DBSCAN and then perform some analysis on the resulting clusters. Part of this analysis is to determine significantly significant words contained in the clusters."
   ]
  },
  {
   "cell_type": "markdown",
   "metadata": {},
   "source": [
    "### Importing Libraries"
   ]
  },
  {
   "cell_type": "code",
   "execution_count": 1,
   "metadata": {},
   "outputs": [],
   "source": [
    "import glob\n",
    "import json\n",
    "import numpy as np\n",
    "import pandas as pd\n",
    "from sklearn.feature_extraction.text import CountVectorizer\n",
    "from sklearn.decomposition import TruncatedSVD\n",
    "from sklearn.cluster import DBSCAN\n",
    "import matplotlib.pyplot as plt\n",
    "from sklearn.metrics import confusion_matrix\n",
    "import itertools\n",
    "from scipy.sparse import csc_matrix\n",
    "from scipy import stats"
   ]
  },
  {
   "cell_type": "markdown",
   "metadata": {},
   "source": [
    "### Part I: Loading and Transforming the data"
   ]
  },
  {
   "cell_type": "markdown",
   "metadata": {},
   "source": [
    "Loading in email json files and putting the data into a pandas dataframe."
   ]
  },
  {
   "cell_type": "code",
   "execution_count": 2,
   "metadata": {},
   "outputs": [],
   "source": [
    "files = glob.glob('email_json/*', recursive=True)\n",
    "email_list = []\n",
    "for file in files:\n",
    "    with open(file) as file:\n",
    "        email_list.append(json.load(file))\n",
    "df = pd.DataFrame.from_records(email_list)\n",
    "df['category'] = df['category'].astype('category')"
   ]
  },
  {
   "cell_type": "code",
   "execution_count": 3,
   "metadata": {},
   "outputs": [
    {
     "data": {
      "text/html": [
       "<div>\n",
       "<style scoped>\n",
       "    .dataframe tbody tr th:only-of-type {\n",
       "        vertical-align: middle;\n",
       "    }\n",
       "\n",
       "    .dataframe tbody tr th {\n",
       "        vertical-align: top;\n",
       "    }\n",
       "\n",
       "    .dataframe thead th {\n",
       "        text-align: right;\n",
       "    }\n",
       "</style>\n",
       "<table border=\"1\" class=\"dataframe\">\n",
       "  <thead>\n",
       "    <tr style=\"text-align: right;\">\n",
       "      <th></th>\n",
       "      <th>body</th>\n",
       "      <th>category</th>\n",
       "      <th>from_address</th>\n",
       "      <th>subject</th>\n",
       "      <th>to_address</th>\n",
       "    </tr>\n",
       "  </thead>\n",
       "  <tbody>\n",
       "    <tr>\n",
       "      <th>0</th>\n",
       "      <td>\\n\\n\\n\\n\\n\\n\\nDo you feel the pressure to perf...</td>\n",
       "      <td>spam</td>\n",
       "      <td>\"Tomas Jacobs\" &lt;RickyAmes@aol.com&gt;</td>\n",
       "      <td>Generic Cialis, branded quality@</td>\n",
       "      <td>the00@speedy.uwaterloo.ca</td>\n",
       "    </tr>\n",
       "    <tr>\n",
       "      <th>1</th>\n",
       "      <td>Hi, i've just updated from the gulus and I che...</td>\n",
       "      <td>ham</td>\n",
       "      <td>Yan Morin &lt;yan.morin@savoirfairelinux.com&gt;</td>\n",
       "      <td>Typo in /debian/README</td>\n",
       "      <td>debian-mirrors@lists.debian.org</td>\n",
       "    </tr>\n",
       "    <tr>\n",
       "      <th>2</th>\n",
       "      <td>authentic viagra\\n\\nMega  authenticV I A G R A...</td>\n",
       "      <td>spam</td>\n",
       "      <td>\"Sheila Crenshaw\" &lt;7stocknews@tractionmarketin...</td>\n",
       "      <td>authentic viagra</td>\n",
       "      <td>&lt;the00@plg.uwaterloo.ca&gt;</td>\n",
       "    </tr>\n",
       "    <tr>\n",
       "      <th>3</th>\n",
       "      <td>\\nHey Billy, \\n\\nit was really fun going out t...</td>\n",
       "      <td>spam</td>\n",
       "      <td>\"Stormy Dempsey\" &lt;vqucsmdfgvsg@ruraltek.com&gt;</td>\n",
       "      <td>Nice talking with ya</td>\n",
       "      <td>opt4@speedy.uwaterloo.ca</td>\n",
       "    </tr>\n",
       "    <tr>\n",
       "      <th>4</th>\n",
       "      <td>\\n\\n\\n\\n\\n\\n\\nsystem\" of the home.  It will ha...</td>\n",
       "      <td>spam</td>\n",
       "      <td>\"Christi T. Jernigan\" &lt;dcube@totalink.net&gt;</td>\n",
       "      <td>or trembling; stomach cramps; trouble in sleep...</td>\n",
       "      <td>ktwarwic@speedy.uwaterloo.ca</td>\n",
       "    </tr>\n",
       "  </tbody>\n",
       "</table>\n",
       "</div>"
      ],
      "text/plain": [
       "                                                body category  \\\n",
       "0  \\n\\n\\n\\n\\n\\n\\nDo you feel the pressure to perf...     spam   \n",
       "1  Hi, i've just updated from the gulus and I che...      ham   \n",
       "2  authentic viagra\\n\\nMega  authenticV I A G R A...     spam   \n",
       "3  \\nHey Billy, \\n\\nit was really fun going out t...     spam   \n",
       "4  \\n\\n\\n\\n\\n\\n\\nsystem\" of the home.  It will ha...     spam   \n",
       "\n",
       "                                        from_address  \\\n",
       "0                 \"Tomas Jacobs\" <RickyAmes@aol.com>   \n",
       "1         Yan Morin <yan.morin@savoirfairelinux.com>   \n",
       "2  \"Sheila Crenshaw\" <7stocknews@tractionmarketin...   \n",
       "3       \"Stormy Dempsey\" <vqucsmdfgvsg@ruraltek.com>   \n",
       "4         \"Christi T. Jernigan\" <dcube@totalink.net>   \n",
       "\n",
       "                                             subject  \\\n",
       "0                  Generic Cialis, branded quality@    \n",
       "1                             Typo in /debian/README   \n",
       "2                                   authentic viagra   \n",
       "3                               Nice talking with ya   \n",
       "4  or trembling; stomach cramps; trouble in sleep...   \n",
       "\n",
       "                        to_address  \n",
       "0        the00@speedy.uwaterloo.ca  \n",
       "1  debian-mirrors@lists.debian.org  \n",
       "2         <the00@plg.uwaterloo.ca>  \n",
       "3         opt4@speedy.uwaterloo.ca  \n",
       "4     ktwarwic@speedy.uwaterloo.ca  "
      ]
     },
     "execution_count": 3,
     "metadata": {},
     "output_type": "execute_result"
    }
   ],
   "source": [
    "df.head()"
   ]
  },
  {
   "cell_type": "code",
   "execution_count": 4,
   "metadata": {},
   "outputs": [
    {
     "name": "stdout",
     "output_type": "stream",
     "text": [
      "<class 'pandas.core.frame.DataFrame'>\n",
      "RangeIndex: 63542 entries, 0 to 63541\n",
      "Data columns (total 5 columns):\n",
      "body            63542 non-null object\n",
      "category        63542 non-null category\n",
      "from_address    63542 non-null object\n",
      "subject         63410 non-null object\n",
      "to_address      63141 non-null object\n",
      "dtypes: category(1), object(4)\n",
      "memory usage: 2.0+ MB\n"
     ]
    }
   ],
   "source": [
    "df.info()"
   ]
  },
  {
   "cell_type": "markdown",
   "metadata": {},
   "source": [
    "Using a count vectorizer to put the word counts into a sparse matrix. We us a binary=true option that makes this matrix only keep track of whether or not the word is in an email instead of the actual counts. We also specify min_df=10 to exclude any words that do not appear in at least 10 emails."
   ]
  },
  {
   "cell_type": "code",
   "execution_count": 5,
   "metadata": {},
   "outputs": [
    {
     "data": {
      "text/plain": [
       "<63542x32144 sparse matrix of type '<class 'numpy.int64'>'\n",
       "\twith 6388795 stored elements in Compressed Sparse Row format>"
      ]
     },
     "execution_count": 5,
     "metadata": {},
     "output_type": "execute_result"
    }
   ],
   "source": [
    "vectorizer = CountVectorizer(binary=True, min_df=10)\n",
    "word_matrix = vectorizer.fit_transform(df['body'])\n",
    "word_matrix"
   ]
  },
  {
   "cell_type": "markdown",
   "metadata": {},
   "source": [
    "Transforming the feature matrix into a SVD projection matrix with 10 columns."
   ]
  },
  {
   "cell_type": "code",
   "execution_count": 6,
   "metadata": {},
   "outputs": [
    {
     "data": {
      "text/plain": [
       "(63542, 10)"
      ]
     },
     "execution_count": 6,
     "metadata": {},
     "output_type": "execute_result"
    }
   ],
   "source": [
    "svd = TruncatedSVD(n_components=10)\n",
    "svd_matrix = svd.fit_transform(word_matrix)\n",
    "svd_matrix.shape"
   ]
  },
  {
   "cell_type": "markdown",
   "metadata": {},
   "source": [
    "### Part II: Clustering the Emails"
   ]
  },
  {
   "cell_type": "markdown",
   "metadata": {},
   "source": [
    "To perform further analysis, we want to cluster the emails. Each message will be assigned a cluster id (0, 1, 2, etc.). I decided to use the DBSCAN algorithm since it works for non-flat geometry and uneven sized clusters. However, I did not want any of the points to be considered as noise so I chose an epsilon value of 1 and a min_samples value of 3 for this to be true. I chose these values by looking at a plot of the data beforehand."
   ]
  },
  {
   "cell_type": "code",
   "execution_count": 7,
   "metadata": {},
   "outputs": [
    {
     "data": {
      "text/plain": [
       "False"
      ]
     },
     "execution_count": 7,
     "metadata": {},
     "output_type": "execute_result"
    }
   ],
   "source": [
    "clustering = DBSCAN(eps=1, min_samples=3).fit(svd_matrix[:,0:2])\n",
    "df['clusterID'] = clustering.labels_\n",
    "np.where(df['clusterID']) == -1 # Represents any points classified as noise"
   ]
  },
  {
   "cell_type": "markdown",
   "metadata": {},
   "source": [
    "Plotting the points according to their cluster. The points form 2 distinct clusters which when looking at the plot, makes the most sense."
   ]
  },
  {
   "cell_type": "code",
   "execution_count": 8,
   "metadata": {},
   "outputs": [
    {
     "data": {
      "image/png": "[encoded data removed]",
      "text/plain": [
       "<Figure size 432x288 with 1 Axes>"
      ]
     },
     "metadata": {
      "needs_background": "light"
     },
     "output_type": "display_data"
    }
   ],
   "source": [
    "fig, axes = plt.subplots()\n",
    "cluster0 = np.where(df['clusterID'] == 0)\n",
    "cluster1 = np.where(df['clusterID'] == 1)\n",
    "axes.set_xlabel('Component Highest Variance')\n",
    "axes.set_ylabel('Component 2nd Highest Variance')\n",
    "axes.set_title('Component 2 vs. Component 1')\n",
    "plt.scatter(svd_matrix[cluster0,0], svd_matrix[cluster0,1], color='r', label='cluster 0')\n",
    "plt.scatter(svd_matrix[cluster1,0], svd_matrix[cluster1,1], color='b', label='cluster 1')\n",
    "fig.legend();"
   ]
  },
  {
   "cell_type": "markdown",
   "metadata": {},
   "source": [
    "Calculating a confusion matrix for the ham/spam labels versus the cluster labels. I convert the spam/ham labels to a binary classification (0 for spam, 1 for ham) to correspond to the values of the clusters. I chose spam to be 0 because in lab 5 we determined that all of the spam emails were in the upper cluster (cluster 0)."
   ]
  },
  {
   "cell_type": "code",
   "execution_count": 9,
   "metadata": {},
   "outputs": [],
   "source": [
    "df['categoryBinary'] = df['category'].map({'spam': 0, 'ham': 1})\n",
    "cm = confusion_matrix(df['categoryBinary'], df['clusterID'])"
   ]
  },
  {
   "cell_type": "code",
   "execution_count": 10,
   "metadata": {},
   "outputs": [],
   "source": [
    "def plot_confusion_matrix(cm, target_names, title='Confusion matrix'):\n",
    "    # http://scikit-learn.org/stable/auto_examples/model_selection/\n",
    "    # plot_confusion_matrix.html\n",
    "    plt.figure(figsize=(6, 4))\n",
    "    plt.imshow(cm, interpolation='nearest', cmap=plt.get_cmap('Blues'))\n",
    "    plt.title(title)\n",
    "    tick_marks = np.arange(len(target_names))\n",
    "    plt.xticks(tick_marks, target_names, rotation=45)\n",
    "    plt.yticks(tick_marks, target_names)\n",
    "    thresh = cm.max() / 1.5\n",
    "    for i, j in itertools.product(range(cm.shape[0]), range(cm.shape[1])):\n",
    "        plt.text(j, i, \"{:,}\".format(cm[i, j]),\n",
    "                horizontalalignment=\"center\",\n",
    "                color=\"white\" if cm[i, j] > thresh else \"black\")\n",
    "    plt.tight_layout()\n",
    "    plt.ylabel('True label')\n",
    "    plt.xlabel('Predicted label')\n",
    "    plt.show()"
   ]
  },
  {
   "cell_type": "code",
   "execution_count": 11,
   "metadata": {},
   "outputs": [
    {
     "data": {
      "image/png": "[encoded data removed]",
      "text/plain": [
       "<Figure size 432x288 with 1 Axes>"
      ]
     },
     "metadata": {
      "needs_background": "light"
     },
     "output_type": "display_data"
    }
   ],
   "source": [
    "plot_confusion_matrix(cm[1:3, 1:3], target_names=['spam', 'ham'])"
   ]
  },
  {
   "cell_type": "markdown",
   "metadata": {},
   "source": [
    "### Part III: Calculating Document Frequencies of Words"
   ]
  },
  {
   "cell_type": "markdown",
   "metadata": {},
   "source": [
    "Creating a separate matrix for each cluster containing the rows for the points in that cluster."
   ]
  },
  {
   "cell_type": "code",
   "execution_count": 12,
   "metadata": {},
   "outputs": [],
   "source": [
    "spam_cluster0 = word_matrix[cluster0]\n",
    "ham_cluster1 = word_matrix[cluster1]"
   ]
  },
  {
   "cell_type": "markdown",
   "metadata": {},
   "source": [
    "Converting the matrices to CSC format. We will be accessing the data column-wise therefore this will be much faster."
   ]
  },
  {
   "cell_type": "code",
   "execution_count": 13,
   "metadata": {},
   "outputs": [
    {
     "data": {
      "text/plain": [
       "<57748x32144 sparse matrix of type '<class 'numpy.longlong'>'\n",
       "\twith 5596708 stored elements in Compressed Sparse Column format>"
      ]
     },
     "execution_count": 13,
     "metadata": {},
     "output_type": "execute_result"
    }
   ],
   "source": [
    "spam_cluster0_csc = csc_matrix(spam_cluster0)\n",
    "ham_cluster1_csc = csc_matrix(ham_cluster1)\n",
    "spam_cluster0_csc"
   ]
  },
  {
   "cell_type": "code",
   "execution_count": 14,
   "metadata": {},
   "outputs": [
    {
     "data": {
      "text/plain": [
       "<5793x32144 sparse matrix of type '<class 'numpy.longlong'>'\n",
       "\twith 790768 stored elements in Compressed Sparse Column format>"
      ]
     },
     "execution_count": 14,
     "metadata": {},
     "output_type": "execute_result"
    }
   ],
   "source": [
    "ham_cluster1_csc"
   ]
  },
  {
   "cell_type": "markdown",
   "metadata": {},
   "source": [
    "Calculating the document frequency of each word for each cluster. The document frequemcy is the number of documents that contain each word. Since the feature matrix is binary, we can simply sum along the columns. The resulting matrices have the same shapes with 1 entry (row) for each word in the vocabulary"
   ]
  },
  {
   "cell_type": "code",
   "execution_count": 15,
   "metadata": {},
   "outputs": [
    {
     "data": {
      "text/plain": [
       "(1, 32144)"
      ]
     },
     "execution_count": 15,
     "metadata": {},
     "output_type": "execute_result"
    }
   ],
   "source": [
    "doc_freq_spam = spam_cluster0_csc.sum(0)\n",
    "doc_freq_ham = ham_cluster1_csc.sum(0)\n",
    "doc_freq_spam.shape"
   ]
  },
  {
   "cell_type": "markdown",
   "metadata": {},
   "source": [
    "Finding the column indexes for the words \"love\", \"work\", and \"different\". Then I find the document frequencies for each of these words for each cluster."
   ]
  },
  {
   "cell_type": "code",
   "execution_count": 16,
   "metadata": {},
   "outputs": [
    {
     "name": "stdout",
     "output_type": "stream",
     "text": [
      "Column Index of \"love\": 18037\n",
      "Column Index of \"works\": 31687\n",
      "Column Index of \"different\": 10151\n"
     ]
    }
   ],
   "source": [
    "feature_words = vectorizer.get_feature_names()\n",
    "print('Column Index of \"love\": '+ str(feature_words.index('love')))\n",
    "print('Column Index of \"works\": ' + str(feature_words.index('works')))\n",
    "print('Column Index of \"different\": ' + str(feature_words.index('different')))"
   ]
  },
  {
   "cell_type": "code",
   "execution_count": 17,
   "metadata": {},
   "outputs": [
    {
     "name": "stdout",
     "output_type": "stream",
     "text": [
      "Document frequency of \"love\" - spam cluster(0): 2020\n",
      "Document frequency of \"works\" - spam cluster(0): 2376\n",
      "Document frequency of \"different\" - spam cluster(0): 2100\n"
     ]
    }
   ],
   "source": [
    "print('Document frequency of \"love\" - spam cluster(0): ' + str(doc_freq_spam[0,18037])) \n",
    "print('Document frequency of \"works\" - spam cluster(0): ' + str(doc_freq_spam[0,31687])) \n",
    "print('Document frequency of \"different\" - spam cluster(0): ' + str(doc_freq_spam[0,10151])) "
   ]
  },
  {
   "cell_type": "code",
   "execution_count": 18,
   "metadata": {},
   "outputs": [
    {
     "name": "stdout",
     "output_type": "stream",
     "text": [
      "Document frequency of \"love\" - ham cluster(1): 23\n",
      "Document frequency of \"works\" - ham cluster(1): 632\n",
      "Document frequency of \"different\" - ham cluster(1): 792\n"
     ]
    }
   ],
   "source": [
    "print('Document frequency of \"love\" - ham cluster(1): ' + str(doc_freq_ham[0,18037])) \n",
    "print('Document frequency of \"works\" - ham cluster(1): ' + str(doc_freq_ham[0,31687])) \n",
    "print('Document frequency of \"different\" - ham cluster(1): ' + str(doc_freq_ham[0,10151])) "
   ]
  },
  {
   "cell_type": "markdown",
   "metadata": {},
   "source": [
    "### Part IV: Finding Enriched Words with Statistical Testing"
   ]
  },
  {
   "cell_type": "markdown",
   "metadata": {},
   "source": [
    "We are using a Binomial test to determine if the number of occurences of a given word in a given cluster is higher than what would be expected from the other cluster."
   ]
  },
  {
   "cell_type": "markdown",
   "metadata": {},
   "source": [
    "Our null hypothesis is that the relative document frequencies of the observed clusted are less than or equal to those of the tested. The alternative hypothesis is that the document frequency is higher in cluster 0 (spam) than cluster 1 (ham)."
   ]
  },
  {
   "cell_type": "markdown",
   "metadata": {},
   "source": [
    "Testing if the words \"works\" and \"love\" are enriched in cluster 0."
   ]
  },
  {
   "cell_type": "code",
   "execution_count": 19,
   "metadata": {},
   "outputs": [],
   "source": [
    "cluster_1_expected_prob = doc_freq_ham[0,31687] / ham_cluster1.shape[0]\n",
    "works_pvalue = stats.binom_test(doc_freq_spam[0,31687], spam_cluster0.shape[0],\\\n",
    "                         cluster_1_expected_prob, alternative='greater')"
   ]
  },
  {
   "cell_type": "code",
   "execution_count": 20,
   "metadata": {},
   "outputs": [
    {
     "name": "stdout",
     "output_type": "stream",
     "text": [
      "\"works\" p-value: 0.9999999999999999\n"
     ]
    }
   ],
   "source": [
    "print('\"works\" p-value: ' + str(works_pvalue))"
   ]
  },
  {
   "cell_type": "markdown",
   "metadata": {},
   "source": [
    "This p-value indicates that the observed frequency of \"works\" for cluster 0 (spam) is not greater than the frequency for cluster 1 (ham)."
   ]
  },
  {
   "cell_type": "code",
   "execution_count": 21,
   "metadata": {},
   "outputs": [],
   "source": [
    "cluster_1_expected_prob = doc_freq_ham[0,18037] / ham_cluster1.shape[0]\n",
    "love_pvalue = stats.binom_test(doc_freq_spam[0,18037], spam_cluster0.shape[0],\\\n",
    "                         cluster_1_expected_prob, alternative='greater')"
   ]
  },
  {
   "cell_type": "code",
   "execution_count": 22,
   "metadata": {},
   "outputs": [
    {
     "name": "stdout",
     "output_type": "stream",
     "text": [
      "\"love\" p-value: 0.0\n"
     ]
    }
   ],
   "source": [
    "print('\"love\" p-value: ' + str(love_pvalue))"
   ]
  },
  {
   "cell_type": "markdown",
   "metadata": {},
   "source": [
    "This p-value indicates that the observed frequency of \"love\" for cluster 0 (spam) is greater than the frequency for cluster 1 (ham)."
   ]
  },
  {
   "cell_type": "markdown",
   "metadata": {},
   "source": [
    "Looping through every word to find enriched words for cluster 0 (spam). To do this, we calculate the p-value of every word. If the p-value < .05, we add that word, its p-value, and its cluster 0 document frequency to a list."
   ]
  },
  {
   "cell_type": "code",
   "execution_count": 23,
   "metadata": {},
   "outputs": [
    {
     "data": {
      "text/plain": [
       "23952"
      ]
     },
     "execution_count": 23,
     "metadata": {},
     "output_type": "execute_result"
    }
   ],
   "source": [
    "enriched_words = []\n",
    "for i in range(doc_freq_ham.size):\n",
    "    cluster_1_expected_prob = doc_freq_ham[0,i] / ham_cluster1.shape[0]\n",
    "    word_pvalue = stats.binom_test(doc_freq_spam[0,i], spam_cluster0.shape[0],\\\n",
    "                                  cluster_1_expected_prob, alternative='greater')\n",
    "    if word_pvalue < .05:\n",
    "        enriched_words.append((word_pvalue, feature_words[i], doc_freq_spam[0,i]))\n",
    "len(enriched_words)"
   ]
  },
  {
   "cell_type": "markdown",
   "metadata": {},
   "source": [
    "Filtering out any words that contain non-alphabetic characters."
   ]
  },
  {
   "cell_type": "code",
   "execution_count": 24,
   "metadata": {},
   "outputs": [
    {
     "data": {
      "text/plain": [
       "20273"
      ]
     },
     "execution_count": 24,
     "metadata": {},
     "output_type": "execute_result"
    }
   ],
   "source": [
    "enriched_words_alpha = []\n",
    "for word_tuple in enriched_words:\n",
    "    if word_tuple[1].isalpha():\n",
    "        enriched_words_alpha.append(word_tuple)\n",
    "len(enriched_words_alpha)"
   ]
  },
  {
   "cell_type": "markdown",
   "metadata": {},
   "source": [
    "Sorting the words in ascending order by their p-values and printing out the first 200 words. "
   ]
  },
  {
   "cell_type": "code",
   "execution_count": 25,
   "metadata": {},
   "outputs": [],
   "source": [
    "enriched_words_alpha_sorted = sorted(enriched_words_alpha, key=lambda x: x[0])"
   ]
  },
  {
   "cell_type": "code",
   "execution_count": 26,
   "metadata": {},
   "outputs": [
    {
     "name": "stdout",
     "output_type": "stream",
     "text": [
      "[(0.0, 'aacs', 16), (0.0, 'aback', 10), (0.0, 'abandoning', 14), (0.0, 'abartlet', 166), (0.0, 'abated', 58), (0.0, 'abating', 29), (0.0, 'abba', 18), (0.0, 'abbas', 30), (0.0, 'abbott', 71), (0.0, 'abducted', 13), (0.0, 'abduction', 13), (0.0, 'abdul', 24), (0.0, 'abe', 18), (0.0, 'abecedarian', 23), (0.0, 'aber', 187), (0.0, 'abfao', 37), (0.0, 'abflauen', 12), (0.0, 'abgeschlossen', 21), (0.0, 'abhorred', 123), (0.0, 'abiding', 24), (0.0, 'abilities', 65), (0.0, 'abiword', 13), (0.0, 'ablaze', 13), (0.0, 'ableton', 577), (0.0, 'abnormal', 14), (0.0, 'aboard', 60), (0.0, 'abode', 24), (0.0, 'abominable', 13), (0.0, 'abortion', 78), (0.0, 'abortions', 15), (0.0, 'abound', 15), (0.0, 'abroad', 212), (0.0, 'abrupt', 12), (0.0, 'abruptly', 81), (0.0, 'absently', 11), (0.0, 'absentminded', 11), (0.0, 'absorbs', 12), (0.0, 'absorption', 28), (0.0, 'abstracted', 22), (0.0, 'abstraction', 40), (0.0, 'absurd', 34), (0.0, 'absurdity', 10), (0.0, 'absurdly', 12), (0.0, 'abundantly', 14), (0.0, 'abused', 23), (0.0, 'abuses', 25), (0.0, 'abusing', 18), (0.0, 'abusive', 16), (0.0, 'abwicklung', 22), (0.0, 'academics', 28), (0.0, 'academy', 407), (0.0, 'acapsite', 51), (0.0, 'accedi', 22), (0.0, 'accelerate', 31), (0.0, 'accelerating', 24), (0.0, 'acceleration', 395), (0.0, 'accelerator', 20), (0.0, 'acceptances', 12), (0.0, 'accesd', 124), (0.0, 'accessibility', 120), (0.0, 'accessor', 12), (0.0, 'accessories', 97), (0.0, 'accessors', 11), (0.0, 'accidentes', 12), (0.0, 'accidents', 28), (0.0, 'acclaimed', 16), (0.0, 'accommodations', 22), (0.0, 'accompanied', 50), (0.0, 'accompany', 120), (0.0, 'accomplishment', 34), (0.0, 'accomplishments', 21), (0.0, 'accord', 43), (0.0, 'account', 2357), (0.0, 'accountability', 21), (0.0, 'accountable', 102), (0.0, 'accountant', 18), (0.0, 'accra', 53), (0.0, 'accredited', 150), (0.0, 'accueil', 32), (0.0, 'accursed', 14), (0.0, 'accusation', 12), (0.0, 'accusations', 29), (0.0, 'accuse', 40), (0.0, 'accused', 221), (0.0, 'accuses', 24), (0.0, 'accusing', 30), (0.0, 'accuweather', 562), (0.0, 'accèsd', 119), (0.0, 'accèsdmoney', 72), (0.0, 'accéder', 117), (0.0, 'acer', 29), (0.0, 'aces', 30), (0.0, 'ache', 14), (0.0, 'achievements', 14), (0.0, 'aci', 14), (0.0, 'acidity', 11), (0.0, 'ack', 58), (0.0, 'acknowledging', 19), (0.0, 'acl', 73), (0.0, 'acls', 38), (0.0, 'aclu', 12), (0.0, 'acoustic', 11), (0.0, 'acp', 27), (0.0, 'acpi', 23), (0.0, 'acquaintance', 56), (0.0, 'acquaintances', 11), (0.0, 'acquainted', 53), (0.0, 'acquaints', 15), (0.0, 'acquire', 191), (0.0, 'acquired', 179), (0.0, 'acquires', 62), (0.0, 'acquiring', 55), (0.0, 'acquisition', 177), (0.0, 'acquisitions', 29), (0.0, 'acquitted', 13), (0.0, 'acre', 21), (0.0, 'acres', 93), (0.0, 'acrob', 14), (0.0, 'acrobat', 1059), (0.0, 'actif', 19), (0.0, 'actionable', 27), (0.0, 'actionist', 12), (0.0, 'activated', 98), (0.0, 'activates', 12), (0.0, 'activatian', 15), (0.0, 'activating', 16), (0.0, 'activism', 10), (0.0, 'activist', 35), (0.0, 'activists', 72), (0.0, 'activities', 708), (0.0, 'activity', 669), (0.0, 'activityfactoryservice', 16), (0.0, 'actobat', 32), (0.0, 'actor', 117), (0.0, 'actress', 84), (0.0, 'actresses', 11), (0.0, 'acuerdo', 20), (0.0, 'acvertising', 64), (0.0, 'ada', 20), (0.0, 'adaptation', 12), (0.0, 'adapter', 64), (0.0, 'adapters', 15), (0.0, 'addicted', 80), (0.0, 'addiction', 45), (0.0, 'addictive', 24), (0.0, 'addin', 12), (0.0, 'addison', 10), (0.0, 'additional', 3230), (0.0, 'additives', 56), (0.0, 'adela', 14), (0.0, 'adelaida', 25), (0.0, 'adelman', 14), (0.0, 'adem', 13), (0.0, 'ademas', 13), (0.0, 'además', 10), (0.0, 'adhere', 11), (0.0, 'adid', 12), (0.0, 'adjective', 41), (0.0, 'adm', 12), (0.0, 'administer', 29), (0.0, 'administrateur', 12), (0.0, 'administrators', 74), (0.0, 'adminpass', 16), (0.0, 'admins', 33), (0.0, 'admiral', 37), (0.0, 'admiration', 42), (0.0, 'admired', 20), (0.0, 'admirrante', 22), (0.0, 'admissible', 61), (0.0, 'admission', 42), (0.0, 'admissions', 12), (0.0, 'admits', 87), (0.0, 'admitting', 20), (0.0, 'ado', 21), (0.0, 'adobe', 1119), (0.0, 'adoption', 60), (0.0, 'adopts', 14), (0.0, 'adorable', 30), (0.0, 'adored', 10), (0.0, 'adorned', 22), (0.0, 'adov', 42), (0.0, 'adovcurrent', 70), (0.0, 'adrenaline', 48), (0.0, 'adresse', 139), (0.0, 'adressierte', 28), (0.0, 'adriano', 10), (0.0, 'adtj', 11), (0.0, 'adtrevor', 12), (0.0, 'adtrevors', 10), (0.0, 'adult', 116), (0.0, 'adultery', 14), (0.0, 'advancement', 212), (0.0, 'advancements', 11), (0.0, 'advancing', 52), (0.0, 'advantageous', 18), (0.0, 'advent', 27), (0.0, 'adventage', 100), (0.0, 'adventure', 76), (0.0, 'adventures', 57), (0.0, 'adverb', 12)]\n"
     ]
    }
   ],
   "source": [
    "print(enriched_words_alpha_sorted[0:200])"
   ]
  },
  {
   "cell_type": "markdown",
   "metadata": {},
   "source": [
    "Repeating with the clusters reversed to find the enriched words in cluster 1 (ham)."
   ]
  },
  {
   "cell_type": "code",
   "execution_count": 27,
   "metadata": {},
   "outputs": [
    {
     "data": {
      "text/plain": [
       "5387"
      ]
     },
     "execution_count": 27,
     "metadata": {},
     "output_type": "execute_result"
    }
   ],
   "source": [
    "enriched_words_1 = []\n",
    "for i in range(doc_freq_ham.size):\n",
    "    cluster_0_expected_prob = doc_freq_spam[0,i] / spam_cluster0.shape[0]\n",
    "    word_pvalue = stats.binom_test(doc_freq_ham[0,i], ham_cluster1.shape[0],\\\n",
    "                                  cluster_0_expected_prob, alternative='greater')\n",
    "    if word_pvalue < .05:\n",
    "        enriched_words_1.append((word_pvalue, feature_words[i], doc_freq_ham[0,i]))\n",
    "len(enriched_words_1)"
   ]
  },
  {
   "cell_type": "markdown",
   "metadata": {},
   "source": [
    "Filtering out any words that contain non-alphabetic characters."
   ]
  },
  {
   "cell_type": "code",
   "execution_count": 28,
   "metadata": {},
   "outputs": [
    {
     "data": {
      "text/plain": [
       "4550"
      ]
     },
     "execution_count": 28,
     "metadata": {},
     "output_type": "execute_result"
    }
   ],
   "source": [
    "enriched_words_1_alpha = []\n",
    "for word_tuple in enriched_words_1:\n",
    "    if word_tuple[1].isalpha():\n",
    "        enriched_words_1_alpha.append(word_tuple)\n",
    "len(enriched_words_1_alpha)"
   ]
  },
  {
   "cell_type": "markdown",
   "metadata": {},
   "source": [
    "Sorting the words in ascending order by their p-values and printing out the first 200 words."
   ]
  },
  {
   "cell_type": "code",
   "execution_count": 29,
   "metadata": {},
   "outputs": [],
   "source": [
    "enriched_words_alpha_1_sorted = sorted(enriched_words_1_alpha, key=lambda x: x[0])"
   ]
  },
  {
   "cell_type": "code",
   "execution_count": 30,
   "metadata": {},
   "outputs": [
    {
     "name": "stdout",
     "output_type": "stream",
     "text": [
      "[(0.0, 'abline', 66), (0.0, 'ac', 566), (0.0, 'acafs', 36), (0.0, 'adai', 21), (0.0, 'adaikalavan', 11), (0.0, 'adschai', 65), (0.0, 'advance', 618), (0.0, 'affymetrix', 11), (0.0, 'agingandhealth', 50), (0.0, 'alin', 40), (0.0, 'alternative', 1511), (0.0, 'am', 2224), (0.0, 'amicogodzilla', 10), (0.0, 'and', 5781), (0.0, 'andrewpr', 11), (0.0, 'annis', 11), (0.0, 'anova', 131), (0.0, 'anup', 28), (0.0, 'any', 2093), (0.0, 'anyone', 763), (0.0, 'aov', 46), (0.0, 'archive', 481), (0.0, 'arima', 16), (0.0, 'autocorrelation', 17), (0.0, 'autoregressive', 10), (0.0, 'axis', 241), (0.0, 'banyu', 10), (0.0, 'barata', 11), (0.0, 'barplot', 40), (0.0, 'barplots', 13), (0.0, 'batchfiles', 23), (0.0, 'bayesianfilter', 18), (0.0, 'bendix', 10), (0.0, 'bengtsson', 13), (0.0, 'benilton', 24), (0.0, 'bfgs', 48), (0.0, 'bhagavad', 12), (0.0, 'bic', 42), (0.0, 'biddle', 10), (0.0, 'biglm', 10), (0.0, 'biobase', 18), (0.0, 'biocomputing', 10), (0.0, 'bioconductor', 64), (0.0, 'bioinformation', 11), (0.0, 'biometrie', 22), (0.0, 'biostat', 146), (0.0, 'biostatistical', 44), (0.0, 'biostatistician', 27), (0.0, 'biostatistics', 178), (0.0, 'biplot', 25), (0.0, 'biplots', 12), (0.0, 'bivand', 24), (0.0, 'bivariate', 34), (0.0, 'blas', 11), (0.0, 'blomberg', 29), (0.0, 'bolker', 26), (0.0, 'bosonderzoek', 19), (0.0, 'bothell', 14), (0.0, 'bounces', 535), (0.0, 'boxplot', 55), (0.0, 'boxplots', 27), (0.0, 'brian', 438), (0.0, 'brutschy', 10), (0.0, 'bty', 14), (0.0, 'but', 3412), (0.0, 'byrow', 44), (0.0, 'calboli', 11), (0.0, 'can', 3023), (0.0, 'carstensen', 10), (0.0, 'causas', 35), (0.0, 'cberry', 41), (0.0, 'cbind', 223), (0.0, 'ccil', 14), (0.0, 'ccilindia', 16), (0.0, 'cedex', 10), (0.0, 'cex', 60), (0.0, 'cezar', 13), (0.0, 'ch', 5793), (0.0, 'charilaos', 17), (0.0, 'chiruka', 23), (0.0, 'chisq', 24), (0.0, 'chm', 25), (0.0, 'cholesky', 12), (0.0, 'christos', 17), (0.0, 'clipplot', 10), (0.0, 'cmdscale', 11), (0.0, 'cmis', 12), (0.0, 'cnio', 10), (0.0, 'code', 5793), (0.0, 'codifies', 16), (0.0, 'coef', 72), (0.0, 'coefficients', 143), (0.0, 'col', 276), (0.0, 'colclasses', 38), (0.0, 'colnames', 129), (0.0, 'colsums', 17), (0.0, 'column', 450), (0.0, 'columns', 430), (0.0, 'commented', 5793), (0.0, 'computerstuff', 21), (0.0, 'concatentate', 11), (0.0, 'confidentia', 13), (0.0, 'confuced', 10), (0.0, 'constroptim', 13), (0.0, 'contained', 5793), (0.0, 'continous', 10), (0.0, 'cornejo', 10), (0.0, 'cov', 19), (0.0, 'covariance', 79), (0.0, 'covariances', 16), (0.0, 'covariate', 28), (0.0, 'covariates', 33), (0.0, 'coxph', 29), (0.0, 'cph', 48), (0.0, 'cran', 304), (0.0, 'csardi', 27), (0.0, 'cumsum', 24), (0.0, 'cwis', 50), (0.0, 'dalgaard', 94), (0.0, 'data', 2468), (0.0, 'dataframe', 149), (0.0, 'dataframes', 22), (0.0, 'datapoints', 18), (0.0, 'dataset', 281), (0.0, 'datasets', 213), (0.0, 'datastep', 17), (0.0, 'deepankar', 34), (0.0, 'deepayan', 146), (0.0, 'delasheras', 15), (0.0, 'deleted', 1435), (0.0, 'delim', 14), (0.0, 'dendrogram', 14), (0.0, 'deviance', 36), (0.0, 'deviations', 24), (0.0, 'df', 274), (0.0, 'dichotomous', 14), (0.0, 'difford', 14), (0.0, 'dimitris', 53), (0.0, 'dimnames', 36), (0.0, 'discriminant', 18), (0.0, 'dnorm', 23), (0.0, 'do', 5793), (0.0, 'documentclass', 11), (0.0, 'donoso', 10), (0.0, 'dorai', 26), (0.0, 'dotplot', 18), (0.0, 'dput', 13), (0.0, 'dtaa', 14), (0.0, 'dusa', 12), (0.0, 'ecdf', 16), (0.0, 'ecologist', 11), (0.0, 'econometric', 19), (0.0, 'ecrc', 33), (0.0, 'eddelbuettel', 17), (0.0, 'edu', 557), (0.0, 'efax', 11), (0.0, 'efg', 21), (0.0, 'ehsanul', 19), (0.0, 'eigenvalues', 19), (0.0, 'elte', 21), (0.0, 'elyakhlifi', 54), (0.0, 'emailtogauravyadav', 11), (0.0, 'enclos', 36), (0.0, 'envir', 50), (0.0, 'epsilon', 26), (0.0, 'eremeev', 29), (0.0, 'error', 1295), (0.0, 'ethz', 5793), (0.0, 'euclidean', 36), (0.0, 'evalq', 22), (0.0, 'everitt', 10), (0.0, 'ewma', 11), (0.0, 'example', 1335), (0.0, 'exogenous', 10), (0.0, 'factanal', 10), (0.0, 'factor', 441), (0.0, 'famprevmed', 10), (0.0, 'farimagsgade', 43), (0.0, 'fax', 905), (0.0, 'fiebert', 13), (0.0, 'finzi', 51), (0.0, 'fisheries', 30), (0.0, 'fmts', 15), (0.0, 'fnscale', 16), (0.0, 'following', 1286), (0.0, 'formatc', 11), (0.0, 'frame', 831), (0.0, 'freq', 39), (0.0, 'freshwaters', 31), (0.0, 'frosst', 10), (0.0, 'fucntion', 14), (0.0, 'function', 2060), (0.0, 'functionaldiversity', 21), (0.0, 'fwf', 24), (0.0, 'gabor', 199), (0.0, 'garch', 11), (0.0, 'gatemaze', 23), (0.0, 'gaverstraat', 19), (0.0, 'gcv', 12), (0.0, 'gdata', 18)]\n"
     ]
    }
   ],
   "source": [
    "print(enriched_words_alpha_1_sorted[0:200])"
   ]
  },
  {
   "cell_type": "markdown",
   "metadata": {},
   "source": [
    "### Reflection Questions"
   ]
  },
  {
   "cell_type": "markdown",
   "metadata": {},
   "source": [
    "a. The emails might form 2 distinct clusters because of the two main types of emails (spam and ham). The words in a typical spam email are different than the words in a typically work/normal email therefore they are sorted into 2 distinct clusters."
   ]
  },
  {
   "cell_type": "markdown",
   "metadata": {},
   "source": [
    "b. Spam emails are only contained in cluster 0. Ham messages are in both cluster 1 and 0. Therefore, cluster 1 is only made up of ham emails, but cluster 0 contains both spam and ham emails."
   ]
  },
  {
   "cell_type": "markdown",
   "metadata": {},
   "source": [
    "c. When examining the first 200 significant words in cluster 1 (ham), there seem to be a lot of words relating to data science. Cluster 0 (spam) contains words more common to spam emails, like \"abortions\"."
   ]
  },
  {
   "cell_type": "markdown",
   "metadata": {},
   "source": [
    "d. Printing the first 25 rows from the DataFrame for each cluster."
   ]
  },
  {
   "cell_type": "code",
   "execution_count": 31,
   "metadata": {},
   "outputs": [
    {
     "data": {
      "text/html": [
       "<div>\n",
       "<style scoped>\n",
       "    .dataframe tbody tr th:only-of-type {\n",
       "        vertical-align: middle;\n",
       "    }\n",
       "\n",
       "    .dataframe tbody tr th {\n",
       "        vertical-align: top;\n",
       "    }\n",
       "\n",
       "    .dataframe thead th {\n",
       "        text-align: right;\n",
       "    }\n",
       "</style>\n",
       "<table border=\"1\" class=\"dataframe\">\n",
       "  <thead>\n",
       "    <tr style=\"text-align: right;\">\n",
       "      <th></th>\n",
       "      <th>body</th>\n",
       "      <th>category</th>\n",
       "      <th>from_address</th>\n",
       "      <th>subject</th>\n",
       "      <th>to_address</th>\n",
       "      <th>clusterID</th>\n",
       "      <th>categoryBinary</th>\n",
       "    </tr>\n",
       "  </thead>\n",
       "  <tbody>\n",
       "    <tr>\n",
       "      <th>0</th>\n",
       "      <td>\\n\\n\\n\\n\\n\\n\\nDo you feel the pressure to perf...</td>\n",
       "      <td>spam</td>\n",
       "      <td>\"Tomas Jacobs\" &lt;RickyAmes@aol.com&gt;</td>\n",
       "      <td>Generic Cialis, branded quality@</td>\n",
       "      <td>the00@speedy.uwaterloo.ca</td>\n",
       "      <td>0</td>\n",
       "      <td>0</td>\n",
       "    </tr>\n",
       "    <tr>\n",
       "      <th>1</th>\n",
       "      <td>Hi, i've just updated from the gulus and I che...</td>\n",
       "      <td>ham</td>\n",
       "      <td>Yan Morin &lt;yan.morin@savoirfairelinux.com&gt;</td>\n",
       "      <td>Typo in /debian/README</td>\n",
       "      <td>debian-mirrors@lists.debian.org</td>\n",
       "      <td>0</td>\n",
       "      <td>1</td>\n",
       "    </tr>\n",
       "    <tr>\n",
       "      <th>2</th>\n",
       "      <td>authentic viagra\\n\\nMega  authenticV I A G R A...</td>\n",
       "      <td>spam</td>\n",
       "      <td>\"Sheila Crenshaw\" &lt;7stocknews@tractionmarketin...</td>\n",
       "      <td>authentic viagra</td>\n",
       "      <td>&lt;the00@plg.uwaterloo.ca&gt;</td>\n",
       "      <td>0</td>\n",
       "      <td>0</td>\n",
       "    </tr>\n",
       "    <tr>\n",
       "      <th>3</th>\n",
       "      <td>\\nHey Billy, \\n\\nit was really fun going out t...</td>\n",
       "      <td>spam</td>\n",
       "      <td>\"Stormy Dempsey\" &lt;vqucsmdfgvsg@ruraltek.com&gt;</td>\n",
       "      <td>Nice talking with ya</td>\n",
       "      <td>opt4@speedy.uwaterloo.ca</td>\n",
       "      <td>0</td>\n",
       "      <td>0</td>\n",
       "    </tr>\n",
       "    <tr>\n",
       "      <th>4</th>\n",
       "      <td>\\n\\n\\n\\n\\n\\n\\nsystem\" of the home.  It will ha...</td>\n",
       "      <td>spam</td>\n",
       "      <td>\"Christi T. Jernigan\" &lt;dcube@totalink.net&gt;</td>\n",
       "      <td>or trembling; stomach cramps; trouble in sleep...</td>\n",
       "      <td>ktwarwic@speedy.uwaterloo.ca</td>\n",
       "      <td>0</td>\n",
       "      <td>0</td>\n",
       "    </tr>\n",
       "    <tr>\n",
       "      <th>5</th>\n",
       "      <td>\\n\\n\\n\\n\\n\\n\\nthe program and the creative abi...</td>\n",
       "      <td>spam</td>\n",
       "      <td>\"Bobby L. Fleming\" &lt;zvyrepeated@liselebel.com&gt;</td>\n",
       "      <td>Which is duty</td>\n",
       "      <td>manager@speedy.uwaterloo.ca</td>\n",
       "      <td>0</td>\n",
       "      <td>0</td>\n",
       "    </tr>\n",
       "    <tr>\n",
       "      <th>6</th>\n",
       "      <td>\\n\\n\\n\\t\\t\\t\\t\\t\\t\\t\\t\\t\\t\\t\\t\\t\\t\\t\\t\\t\\t\\t\\t...</td>\n",
       "      <td>spam</td>\n",
       "      <td>\"Esteban Everett\" &lt;dbmagyrln@dbmag.com&gt;</td>\n",
       "      <td>Theorize get inside for local esc0rts who do i...</td>\n",
       "      <td>\"Theorize\" &lt;theorize@plg.uwaterloo.ca&gt;</td>\n",
       "      <td>0</td>\n",
       "      <td>0</td>\n",
       "    </tr>\n",
       "    <tr>\n",
       "      <th>7</th>\n",
       "      <td>\\n\\n\\n\\n\\n\\n HoodiaLife - Start Losing Weight ...</td>\n",
       "      <td>spam</td>\n",
       "      <td>Real Loss &lt;fibond@terra.com.do&gt;</td>\n",
       "      <td>Losing Weight Quickly</td>\n",
       "      <td>theorize@plg.uwaterloo.ca</td>\n",
       "      <td>0</td>\n",
       "      <td>0</td>\n",
       "    </tr>\n",
       "    <tr>\n",
       "      <th>9</th>\n",
       "      <td>\\n\\n\\n\\n\\n\\n\\nGood day!\\nVisit our new online ...</td>\n",
       "      <td>spam</td>\n",
       "      <td>\"Billy Chin\" &lt;boxer@0733.com&gt;</td>\n",
       "      <td>For Smile</td>\n",
       "      <td>&lt;smile@speedy.uwaterloo.ca&gt;</td>\n",
       "      <td>0</td>\n",
       "      <td>0</td>\n",
       "    </tr>\n",
       "    <tr>\n",
       "      <th>10</th>\n",
       "      <td>\\nCheck out the wonders of pound melting\\n\\n\\n...</td>\n",
       "      <td>spam</td>\n",
       "      <td>\"Josie Abernathy\" &lt;cebcalhounrennerhog@calhoun...</td>\n",
       "      <td>Less weight - more pleasure and joy</td>\n",
       "      <td>ftp@plg.uwaterloo.ca</td>\n",
       "      <td>0</td>\n",
       "      <td>0</td>\n",
       "    </tr>\n",
       "    <tr>\n",
       "      <th>11</th>\n",
       "      <td>\\n\\n\\n\\n\\n\\n\\nmovement on the tablet.  I could...</td>\n",
       "      <td>spam</td>\n",
       "      <td>wing as &lt;mstep@mavorama.com&gt;</td>\n",
       "      <td>problems in animal studies using rats or rabbi...</td>\n",
       "      <td>ktwarwic@speedy.uwaterloo.ca</td>\n",
       "      <td>0</td>\n",
       "      <td>0</td>\n",
       "    </tr>\n",
       "    <tr>\n",
       "      <th>12</th>\n",
       "      <td>\\n\\n\\n\\n\\n\\n\\n\\n</td>\n",
       "      <td>spam</td>\n",
       "      <td>\"Geoffrey\" &lt;reginald@funeasy.biz&gt;</td>\n",
       "      <td>We cure any desease!</td>\n",
       "      <td>&lt;manager@speedy.uwaterloo.ca&gt;</td>\n",
       "      <td>0</td>\n",
       "      <td>0</td>\n",
       "    </tr>\n",
       "    <tr>\n",
       "      <th>13</th>\n",
       "      <td>\\n\\n\\n\\n\\n\\nWhat is HGH Life™?\\n HGH Life™ is ...</td>\n",
       "      <td>spam</td>\n",
       "      <td>4ever Young &lt;ualicia@netscape.net&gt;</td>\n",
       "      <td>Human Growth Hormone</td>\n",
       "      <td>gnitpick@speedy.uwaterloo.ca</td>\n",
       "      <td>0</td>\n",
       "      <td>0</td>\n",
       "    </tr>\n",
       "    <tr>\n",
       "      <th>14</th>\n",
       "      <td>Hey Billy, \\n\\nit was really fun going out the...</td>\n",
       "      <td>spam</td>\n",
       "      <td>\"Caroyln Herbert\" &lt;slqwil@planetonline.com&gt;</td>\n",
       "      <td>hi man</td>\n",
       "      <td>the00@speedy.uwaterloo.ca, opt2@speedy.uwaterl...</td>\n",
       "      <td>0</td>\n",
       "      <td>0</td>\n",
       "    </tr>\n",
       "    <tr>\n",
       "      <th>15</th>\n",
       "      <td>\\n\\n\\n\\n\\n\\n\\ncan assist advertising and marke...</td>\n",
       "      <td>spam</td>\n",
       "      <td>Domingo Bolden &lt;lfriend@dryden.com&gt;</td>\n",
       "      <td>when taken for a long time or in large doses, ...</td>\n",
       "      <td>the00@plg2.math.uwaterloo.ca</td>\n",
       "      <td>0</td>\n",
       "      <td>0</td>\n",
       "    </tr>\n",
       "    <tr>\n",
       "      <th>17</th>\n",
       "      <td>\\n\\n\\n\\n\\n\\n\\n\\n</td>\n",
       "      <td>spam</td>\n",
       "      <td>\"Henry\" &lt;gilbert@garageservices.biz&gt;</td>\n",
       "      <td>We cure any desease!</td>\n",
       "      <td>&lt;the00@plg.uwaterloo.ca&gt;</td>\n",
       "      <td>0</td>\n",
       "      <td>0</td>\n",
       "    </tr>\n",
       "    <tr>\n",
       "      <th>18</th>\n",
       "      <td>\\n\\n\\n\\n\\n\\n\\n\\n</td>\n",
       "      <td>spam</td>\n",
       "      <td>\"Simon\" &lt;walter@griffield.biz&gt;</td>\n",
       "      <td>Need medicine? All here!</td>\n",
       "      <td>&lt;the00@plg.uwaterloo.ca&gt;</td>\n",
       "      <td>0</td>\n",
       "      <td>0</td>\n",
       "    </tr>\n",
       "    <tr>\n",
       "      <th>19</th>\n",
       "      <td>\\n\\n\\n\\n\\n\\n\\n\\n</td>\n",
       "      <td>spam</td>\n",
       "      <td>\"Philip\" &lt;richard@expomedica.biz&gt;</td>\n",
       "      <td>Need medicine? All here!</td>\n",
       "      <td>&lt;the00@plg.uwaterloo.ca&gt;</td>\n",
       "      <td>0</td>\n",
       "      <td>0</td>\n",
       "    </tr>\n",
       "    <tr>\n",
       "      <th>20</th>\n",
       "      <td>\\n\\n\\n\\n\\n\\n\\nBecome Fit For Life!\\n\\nHGH is a...</td>\n",
       "      <td>spam</td>\n",
       "      <td>Young Future &lt;kdemetrius@publicist.com&gt;</td>\n",
       "      <td>Become Fit For Life!</td>\n",
       "      <td>gnitpick@speedy.uwaterloo.ca</td>\n",
       "      <td>0</td>\n",
       "      <td>0</td>\n",
       "    </tr>\n",
       "    <tr>\n",
       "      <th>21</th>\n",
       "      <td></td>\n",
       "      <td>spam</td>\n",
       "      <td>\"Gena Blanco\" &lt;nytwdn@incamail.com&gt;</td>\n",
       "      <td>Please Read This C</td>\n",
       "      <td>\"Gnitpick\" &lt;gnitpick@speedy.uwaterloo.ca&gt;</td>\n",
       "      <td>0</td>\n",
       "      <td>0</td>\n",
       "    </tr>\n",
       "    <tr>\n",
       "      <th>22</th>\n",
       "      <td>\\nMake your fat friends envy you\\n\\n\\n\\n\\n\\n\\n...</td>\n",
       "      <td>spam</td>\n",
       "      <td>\"Carlene Campos\" &lt;cebcaligularhog@caligular.com&gt;</td>\n",
       "      <td>Be leaner and slimmer by next week</td>\n",
       "      <td>gnitpick@speedy.uwaterloo.ca</td>\n",
       "      <td>0</td>\n",
       "      <td>0</td>\n",
       "    </tr>\n",
       "    <tr>\n",
       "      <th>23</th>\n",
       "      <td>\\n\\n\\n\\n\\nRemember HANS and FIZ\\nFire Mountain...</td>\n",
       "      <td>spam</td>\n",
       "      <td>\"Chadwick Milesc\" &lt;ctuballerina@bb-autom.nl&gt;</td>\n",
       "      <td>But serpentine</td>\n",
       "      <td>&lt;theorize@plg.uwaterloo.ca&gt;</td>\n",
       "      <td>0</td>\n",
       "      <td>0</td>\n",
       "    </tr>\n",
       "    <tr>\n",
       "      <th>25</th>\n",
       "      <td>\\n\\n\\n\\n\\n\\n\\n\\n</td>\n",
       "      <td>spam</td>\n",
       "      <td>\"Henry\" &lt;richard@expomedica.biz&gt;</td>\n",
       "      <td>All products for your health!</td>\n",
       "      <td>&lt;theorize@plg.uwaterloo.ca&gt;</td>\n",
       "      <td>0</td>\n",
       "      <td>0</td>\n",
       "    </tr>\n",
       "    <tr>\n",
       "      <th>26</th>\n",
       "      <td>\\n\\n\\n\\n\\n\\n\\n\\nSunday, 08 April, 2007, 18:00 ...</td>\n",
       "      <td>ham</td>\n",
       "      <td>\"BBC daily email\" &lt;dailyemail@bbc.co.uk&gt;</td>\n",
       "      <td>Your daily e-mail from the BBC</td>\n",
       "      <td>ktwarwic@speedy.uwaterloo.ca</td>\n",
       "      <td>0</td>\n",
       "      <td>1</td>\n",
       "    </tr>\n",
       "    <tr>\n",
       "      <th>27</th>\n",
       "      <td>\\n\\n\\n\\n\\n\\nWhat is HGH Life™?\\n HGH Life™ is ...</td>\n",
       "      <td>spam</td>\n",
       "      <td>4ever Young &lt;doaraceli@altavista.nl&gt;</td>\n",
       "      <td>HGH really helps!</td>\n",
       "      <td>theorize@plg.uwaterloo.ca</td>\n",
       "      <td>0</td>\n",
       "      <td>0</td>\n",
       "    </tr>\n",
       "  </tbody>\n",
       "</table>\n",
       "</div>"
      ],
      "text/plain": [
       "                                                 body category  \\\n",
       "0   \\n\\n\\n\\n\\n\\n\\nDo you feel the pressure to perf...     spam   \n",
       "1   Hi, i've just updated from the gulus and I che...      ham   \n",
       "2   authentic viagra\\n\\nMega  authenticV I A G R A...     spam   \n",
       "3   \\nHey Billy, \\n\\nit was really fun going out t...     spam   \n",
       "4   \\n\\n\\n\\n\\n\\n\\nsystem\" of the home.  It will ha...     spam   \n",
       "5   \\n\\n\\n\\n\\n\\n\\nthe program and the creative abi...     spam   \n",
       "6   \\n\\n\\n\\t\\t\\t\\t\\t\\t\\t\\t\\t\\t\\t\\t\\t\\t\\t\\t\\t\\t\\t\\t...     spam   \n",
       "7   \\n\\n\\n\\n\\n\\n HoodiaLife - Start Losing Weight ...     spam   \n",
       "9   \\n\\n\\n\\n\\n\\n\\nGood day!\\nVisit our new online ...     spam   \n",
       "10  \\nCheck out the wonders of pound melting\\n\\n\\n...     spam   \n",
       "11  \\n\\n\\n\\n\\n\\n\\nmovement on the tablet.  I could...     spam   \n",
       "12                                   \\n\\n\\n\\n\\n\\n\\n\\n     spam   \n",
       "13  \\n\\n\\n\\n\\n\\nWhat is HGH Life™?\\n HGH Life™ is ...     spam   \n",
       "14  Hey Billy, \\n\\nit was really fun going out the...     spam   \n",
       "15  \\n\\n\\n\\n\\n\\n\\ncan assist advertising and marke...     spam   \n",
       "17                                   \\n\\n\\n\\n\\n\\n\\n\\n     spam   \n",
       "18                                   \\n\\n\\n\\n\\n\\n\\n\\n     spam   \n",
       "19                                   \\n\\n\\n\\n\\n\\n\\n\\n     spam   \n",
       "20  \\n\\n\\n\\n\\n\\n\\nBecome Fit For Life!\\n\\nHGH is a...     spam   \n",
       "21                                                        spam   \n",
       "22  \\nMake your fat friends envy you\\n\\n\\n\\n\\n\\n\\n...     spam   \n",
       "23  \\n\\n\\n\\n\\nRemember HANS and FIZ\\nFire Mountain...     spam   \n",
       "25                                   \\n\\n\\n\\n\\n\\n\\n\\n     spam   \n",
       "26  \\n\\n\\n\\n\\n\\n\\n\\nSunday, 08 April, 2007, 18:00 ...      ham   \n",
       "27  \\n\\n\\n\\n\\n\\nWhat is HGH Life™?\\n HGH Life™ is ...     spam   \n",
       "\n",
       "                                         from_address  \\\n",
       "0                  \"Tomas Jacobs\" <RickyAmes@aol.com>   \n",
       "1          Yan Morin <yan.morin@savoirfairelinux.com>   \n",
       "2   \"Sheila Crenshaw\" <7stocknews@tractionmarketin...   \n",
       "3        \"Stormy Dempsey\" <vqucsmdfgvsg@ruraltek.com>   \n",
       "4          \"Christi T. Jernigan\" <dcube@totalink.net>   \n",
       "5      \"Bobby L. Fleming\" <zvyrepeated@liselebel.com>   \n",
       "6             \"Esteban Everett\" <dbmagyrln@dbmag.com>   \n",
       "7                     Real Loss <fibond@terra.com.do>   \n",
       "9                       \"Billy Chin\" <boxer@0733.com>   \n",
       "10  \"Josie Abernathy\" <cebcalhounrennerhog@calhoun...   \n",
       "11                       wing as <mstep@mavorama.com>   \n",
       "12                  \"Geoffrey\" <reginald@funeasy.biz>   \n",
       "13                 4ever Young <ualicia@netscape.net>   \n",
       "14        \"Caroyln Herbert\" <slqwil@planetonline.com>   \n",
       "15                Domingo Bolden <lfriend@dryden.com>   \n",
       "17               \"Henry\" <gilbert@garageservices.biz>   \n",
       "18                     \"Simon\" <walter@griffield.biz>   \n",
       "19                  \"Philip\" <richard@expomedica.biz>   \n",
       "20            Young Future <kdemetrius@publicist.com>   \n",
       "21                \"Gena Blanco\" <nytwdn@incamail.com>   \n",
       "22   \"Carlene Campos\" <cebcaligularhog@caligular.com>   \n",
       "23       \"Chadwick Milesc\" <ctuballerina@bb-autom.nl>   \n",
       "25                   \"Henry\" <richard@expomedica.biz>   \n",
       "26           \"BBC daily email\" <dailyemail@bbc.co.uk>   \n",
       "27               4ever Young <doaraceli@altavista.nl>   \n",
       "\n",
       "                                              subject  \\\n",
       "0                   Generic Cialis, branded quality@    \n",
       "1                              Typo in /debian/README   \n",
       "2                                    authentic viagra   \n",
       "3                                Nice talking with ya   \n",
       "4   or trembling; stomach cramps; trouble in sleep...   \n",
       "5                                       Which is duty   \n",
       "6   Theorize get inside for local esc0rts who do i...   \n",
       "7                               Losing Weight Quickly   \n",
       "9                                           For Smile   \n",
       "10                Less weight - more pleasure and joy   \n",
       "11  problems in animal studies using rats or rabbi...   \n",
       "12                               We cure any desease!   \n",
       "13                               Human Growth Hormone   \n",
       "14                                             hi man   \n",
       "15  when taken for a long time or in large doses, ...   \n",
       "17                               We cure any desease!   \n",
       "18                           Need medicine? All here!   \n",
       "19                           Need medicine? All here!   \n",
       "20                               Become Fit For Life!   \n",
       "21                                 Please Read This C   \n",
       "22                 Be leaner and slimmer by next week   \n",
       "23                                     But serpentine   \n",
       "25                      All products for your health!   \n",
       "26                     Your daily e-mail from the BBC   \n",
       "27                                  HGH really helps!   \n",
       "\n",
       "                                           to_address  clusterID  \\\n",
       "0                           the00@speedy.uwaterloo.ca          0   \n",
       "1                     debian-mirrors@lists.debian.org          0   \n",
       "2                            <the00@plg.uwaterloo.ca>          0   \n",
       "3                            opt4@speedy.uwaterloo.ca          0   \n",
       "4                        ktwarwic@speedy.uwaterloo.ca          0   \n",
       "5                         manager@speedy.uwaterloo.ca          0   \n",
       "6              \"Theorize\" <theorize@plg.uwaterloo.ca>          0   \n",
       "7                           theorize@plg.uwaterloo.ca          0   \n",
       "9                         <smile@speedy.uwaterloo.ca>          0   \n",
       "10                               ftp@plg.uwaterloo.ca          0   \n",
       "11                       ktwarwic@speedy.uwaterloo.ca          0   \n",
       "12                      <manager@speedy.uwaterloo.ca>          0   \n",
       "13                       gnitpick@speedy.uwaterloo.ca          0   \n",
       "14  the00@speedy.uwaterloo.ca, opt2@speedy.uwaterl...          0   \n",
       "15                       the00@plg2.math.uwaterloo.ca          0   \n",
       "17                           <the00@plg.uwaterloo.ca>          0   \n",
       "18                           <the00@plg.uwaterloo.ca>          0   \n",
       "19                           <the00@plg.uwaterloo.ca>          0   \n",
       "20                       gnitpick@speedy.uwaterloo.ca          0   \n",
       "21          \"Gnitpick\" <gnitpick@speedy.uwaterloo.ca>          0   \n",
       "22                       gnitpick@speedy.uwaterloo.ca          0   \n",
       "23                        <theorize@plg.uwaterloo.ca>          0   \n",
       "25                        <theorize@plg.uwaterloo.ca>          0   \n",
       "26                       ktwarwic@speedy.uwaterloo.ca          0   \n",
       "27                          theorize@plg.uwaterloo.ca          0   \n",
       "\n",
       "    categoryBinary  \n",
       "0                0  \n",
       "1                1  \n",
       "2                0  \n",
       "3                0  \n",
       "4                0  \n",
       "5                0  \n",
       "6                0  \n",
       "7                0  \n",
       "9                0  \n",
       "10               0  \n",
       "11               0  \n",
       "12               0  \n",
       "13               0  \n",
       "14               0  \n",
       "15               0  \n",
       "17               0  \n",
       "18               0  \n",
       "19               0  \n",
       "20               0  \n",
       "21               0  \n",
       "22               0  \n",
       "23               0  \n",
       "25               0  \n",
       "26               1  \n",
       "27               0  "
      ]
     },
     "execution_count": 31,
     "metadata": {},
     "output_type": "execute_result"
    }
   ],
   "source": [
    "df[df['clusterID'] == 0].head(25)"
   ]
  },
  {
   "cell_type": "code",
   "execution_count": 32,
   "metadata": {},
   "outputs": [
    {
     "data": {
      "text/html": [
       "<div>\n",
       "<style scoped>\n",
       "    .dataframe tbody tr th:only-of-type {\n",
       "        vertical-align: middle;\n",
       "    }\n",
       "\n",
       "    .dataframe tbody tr th {\n",
       "        vertical-align: top;\n",
       "    }\n",
       "\n",
       "    .dataframe thead th {\n",
       "        text-align: right;\n",
       "    }\n",
       "</style>\n",
       "<table border=\"1\" class=\"dataframe\">\n",
       "  <thead>\n",
       "    <tr style=\"text-align: right;\">\n",
       "      <th></th>\n",
       "      <th>body</th>\n",
       "      <th>category</th>\n",
       "      <th>from_address</th>\n",
       "      <th>subject</th>\n",
       "      <th>to_address</th>\n",
       "      <th>clusterID</th>\n",
       "      <th>categoryBinary</th>\n",
       "    </tr>\n",
       "  </thead>\n",
       "  <tbody>\n",
       "    <tr>\n",
       "      <th>8</th>\n",
       "      <td>\\nHi...\\n\\nI have to use R to find out the 90%...</td>\n",
       "      <td>ham</td>\n",
       "      <td>\"Jochen.F\" &lt;jjfahr@ucalgary.ca&gt;</td>\n",
       "      <td>[R] Confidence-Intervals.... help...</td>\n",
       "      <td>r-help@stat.math.ethz.ch</td>\n",
       "      <td>1</td>\n",
       "      <td>1</td>\n",
       "    </tr>\n",
       "    <tr>\n",
       "      <th>16</th>\n",
       "      <td>Hm... sounds like a homework problem to me...\\...</td>\n",
       "      <td>ham</td>\n",
       "      <td>\"Sarah Goslee\" &lt;sarah.goslee@gmail.com&gt;</td>\n",
       "      <td>Re: [R] Confidence-Intervals.... help...</td>\n",
       "      <td>\"Jochen.F\" &lt;jjfahr@ucalgary.ca&gt;</td>\n",
       "      <td>1</td>\n",
       "      <td>1</td>\n",
       "    </tr>\n",
       "    <tr>\n",
       "      <th>24</th>\n",
       "      <td>Daer r-helpers,\\n\\nCan anyone help with the fo...</td>\n",
       "      <td>ham</td>\n",
       "      <td>Michael Kubovy &lt;kubovy@virginia.edu&gt;</td>\n",
       "      <td>[R] Failure of mcsamp() but not mcmcsamp()</td>\n",
       "      <td>r-help@stat.math.ethz.ch</td>\n",
       "      <td>1</td>\n",
       "      <td>1</td>\n",
       "    </tr>\n",
       "    <tr>\n",
       "      <th>68</th>\n",
       "      <td>On 4/6/07, Wilfred Zegwaard  wrote:\\n\\n&gt; I'm n...</td>\n",
       "      <td>ham</td>\n",
       "      <td>\"Johann Hibschman\" &lt;johannh@gmail.com&gt;</td>\n",
       "      <td>Re: [R] Reasons to Use R</td>\n",
       "      <td>\"Wilfred Zegwaard\" &lt;wilfred.zegwaard@gmail.com&gt;</td>\n",
       "      <td>1</td>\n",
       "      <td>1</td>\n",
       "    </tr>\n",
       "    <tr>\n",
       "      <th>75</th>\n",
       "      <td>On 4/8/07, Johann Hibschman  wrote:\\n&gt; R's pas...</td>\n",
       "      <td>ham</td>\n",
       "      <td>\"Gabor Grothendieck\" &lt;ggrothendieck@gmail.com&gt;</td>\n",
       "      <td>Re: [R] Reasons to Use R</td>\n",
       "      <td>\"Johann Hibschman\" &lt;johannh@gmail.com&gt;</td>\n",
       "      <td>1</td>\n",
       "      <td>1</td>\n",
       "    </tr>\n",
       "    <tr>\n",
       "      <th>112</th>\n",
       "      <td>I have a question to everybody.\\n\\nAfter log10...</td>\n",
       "      <td>ham</td>\n",
       "      <td>\"Zia Uddin Ahmed\" &lt;zua3@cornell.edu&gt;</td>\n",
       "      <td>[R] How do I back transforme ordinary log-krig...</td>\n",
       "      <td>r-help@stat.math.ethz.ch</td>\n",
       "      <td>1</td>\n",
       "      <td>1</td>\n",
       "    </tr>\n",
       "    <tr>\n",
       "      <th>149</th>\n",
       "      <td>\\nI am writing some code to obtain publication...</td>\n",
       "      <td>ham</td>\n",
       "      <td>\"Cressoni, Massimo \\(NIH/NHLBI\\) [F]\" &lt;cresson...</td>\n",
       "      <td>[R] Plot symbols dimensions</td>\n",
       "      <td>&lt;r-help@stat.math.ethz.ch&gt;</td>\n",
       "      <td>1</td>\n",
       "      <td>1</td>\n",
       "    </tr>\n",
       "    <tr>\n",
       "      <th>278</th>\n",
       "      <td>Dear Johann and Gabor,\\n\\nIt's what amounts to...</td>\n",
       "      <td>ham</td>\n",
       "      <td>Wilfred Zegwaard &lt;wilfred.zegwaard@gmail.com&gt;</td>\n",
       "      <td>Re: [R] Reasons to Use R</td>\n",
       "      <td>r-help@stat.math.ethz.ch</td>\n",
       "      <td>1</td>\n",
       "      <td>1</td>\n",
       "    </tr>\n",
       "    <tr>\n",
       "      <th>307</th>\n",
       "      <td>Dear R-users,\\n\\nI would like to use \"bruto\" f...</td>\n",
       "      <td>ham</td>\n",
       "      <td>=?ISO-2022-JP?B?GyRCQG44fRsoQiAbJEI9JDwjGyhC?=...</td>\n",
       "      <td>[R] Could not fit correct values in discrimina...</td>\n",
       "      <td>r-help@stat.math.ethz.ch</td>\n",
       "      <td>1</td>\n",
       "      <td>1</td>\n",
       "    </tr>\n",
       "    <tr>\n",
       "      <th>318</th>\n",
       "      <td>Dear R users,\\n\\nI am new to R. I would like t...</td>\n",
       "      <td>ham</td>\n",
       "      <td>\"joey repice\" &lt;fireseedmusic@gmail.com&gt;</td>\n",
       "      <td>[R] R:Maximum likelihood estimation using BHHH...</td>\n",
       "      <td>r-help@stat.math.ethz.ch</td>\n",
       "      <td>1</td>\n",
       "      <td>1</td>\n",
       "    </tr>\n",
       "    <tr>\n",
       "      <th>323</th>\n",
       "      <td>Hi,\\n\\nI am using tsls function from sem packa...</td>\n",
       "      <td>ham</td>\n",
       "      <td>adschai@optonline.net</td>\n",
       "      <td>[R] Dealing with large nominal predictor in se...</td>\n",
       "      <td>r-help@stat.math.ethz.ch</td>\n",
       "      <td>1</td>\n",
       "      <td>1</td>\n",
       "    </tr>\n",
       "    <tr>\n",
       "      <th>408</th>\n",
       "      <td>On Sun, 8 Apr 2007, hadley wickham wrote:\\n\\n&gt;...</td>\n",
       "      <td>ham</td>\n",
       "      <td>Prof Brian Ripley &lt;ripley@stats.ox.ac.uk&gt;</td>\n",
       "      <td>Re: [R] data encapsulation with classes</td>\n",
       "      <td>hadley wickham &lt;h.wickham@gmail.com&gt;</td>\n",
       "      <td>1</td>\n",
       "      <td>1</td>\n",
       "    </tr>\n",
       "    <tr>\n",
       "      <th>472</th>\n",
       "      <td>Hello,\\n\\nI want to know if there are some fun...</td>\n",
       "      <td>ham</td>\n",
       "      <td>Shao &lt;xshining@gmail.com&gt;</td>\n",
       "      <td>[R] How to solve differential and integral equ...</td>\n",
       "      <td>r-help &lt;r-help@stat.math.ethz.ch&gt;</td>\n",
       "      <td>1</td>\n",
       "      <td>1</td>\n",
       "    </tr>\n",
       "    <tr>\n",
       "      <th>501</th>\n",
       "      <td>Joey,\\n\\nFirst of all, it is bad habit to call...</td>\n",
       "      <td>ham</td>\n",
       "      <td>chao gai &lt;chaogai@duineveld.demon.nl&gt;</td>\n",
       "      <td>Re: [R] R:Maximum likelihood estimation using ...</td>\n",
       "      <td>r-help@stat.math.ethz.ch</td>\n",
       "      <td>1</td>\n",
       "      <td>1</td>\n",
       "    </tr>\n",
       "    <tr>\n",
       "      <th>534</th>\n",
       "      <td>Thanks,\\nI have much to learn~~~\\n\\nShao chunx...</td>\n",
       "      <td>ham</td>\n",
       "      <td>Shao &lt;xshining@gmail.com&gt;</td>\n",
       "      <td>Re: [R] How to solve differential and integral...</td>\n",
       "      <td>r-help &lt;r-help@stat.math.ethz.ch&gt;</td>\n",
       "      <td>1</td>\n",
       "      <td>1</td>\n",
       "    </tr>\n",
       "    <tr>\n",
       "      <th>578</th>\n",
       "      <td>Dear adschai,\\n\\nIt's not possible to know fro...</td>\n",
       "      <td>ham</td>\n",
       "      <td>\"John Fox\" &lt;jfox@mcmaster.ca&gt;</td>\n",
       "      <td>Re: [R] Dealing with large nominal predictor i...</td>\n",
       "      <td>&lt;adschai@optonline.net&gt;</td>\n",
       "      <td>1</td>\n",
       "      <td>1</td>\n",
       "    </tr>\n",
       "    <tr>\n",
       "      <th>582</th>\n",
       "      <td>Thanks anhnmncb\\nI think the problem comes fro...</td>\n",
       "      <td>ham</td>\n",
       "      <td>fsando &lt;fsando@fs-analyse.dk&gt;</td>\n",
       "      <td>Re: [R] R 'could not find any X11 fonts'</td>\n",
       "      <td>r-help@stat.math.ethz.ch</td>\n",
       "      <td>1</td>\n",
       "      <td>1</td>\n",
       "    </tr>\n",
       "    <tr>\n",
       "      <th>594</th>\n",
       "      <td>I am trying to install the gnomeGUI package\\nI...</td>\n",
       "      <td>ham</td>\n",
       "      <td>fsando &lt;fsando@fs-analyse.dk&gt;</td>\n",
       "      <td>[R] Problem installing gnomeGUI in Ubuntu: \"HA...</td>\n",
       "      <td>r-help@stat.math.ethz.ch</td>\n",
       "      <td>1</td>\n",
       "      <td>1</td>\n",
       "    </tr>\n",
       "    <tr>\n",
       "      <th>622</th>\n",
       "      <td>Shuji,\\n\\nI suspect that bruto blows up becaus...</td>\n",
       "      <td>ham</td>\n",
       "      <td>\"Kuhn, Max\" &lt;Max.Kuhn@pfizer.com&gt;</td>\n",
       "      <td>Re: [R] Could not fit correct values in discri...</td>\n",
       "      <td>\"?? ??\" &lt;kawaguchi@math.kyushu-u.ac.jp&gt;, &lt;r-he...</td>\n",
       "      <td>1</td>\n",
       "      <td>1</td>\n",
       "    </tr>\n",
       "    <tr>\n",
       "      <th>629</th>\n",
       "      <td>&gt;&gt;&gt;&gt;&gt; \"BDR\" == Prof Brian Ripley \\n&gt;&gt;&gt;&gt;&gt;     o...</td>\n",
       "      <td>ham</td>\n",
       "      <td>Martin Maechler &lt;maechler@stat.math.ethz.ch&gt;</td>\n",
       "      <td>Re: [R] data encapsulation with classes</td>\n",
       "      <td>Prof Brian Ripley &lt;ripley@stats.ox.ac.uk&gt;</td>\n",
       "      <td>1</td>\n",
       "      <td>1</td>\n",
       "    </tr>\n",
       "    <tr>\n",
       "      <th>630</th>\n",
       "      <td>Does anyone know of a package that includes th...</td>\n",
       "      <td>ham</td>\n",
       "      <td>\"Chris Elsaesser\" &lt;chris.elsaesser@spadac.com&gt;</td>\n",
       "      <td>[R] Modified Sims test</td>\n",
       "      <td>&lt;r-help@stat.math.ethz.ch&gt;</td>\n",
       "      <td>1</td>\n",
       "      <td>1</td>\n",
       "    </tr>\n",
       "    <tr>\n",
       "      <th>668</th>\n",
       "      <td>Gabor has already showed you one way to make y...</td>\n",
       "      <td>ham</td>\n",
       "      <td>\"Greg Snow\" &lt;Greg.Snow@intermountainmail.org&gt;</td>\n",
       "      <td>Re: [R] lm() intercept at the end, rather than...</td>\n",
       "      <td>\"Dimitri Szerman\" &lt;dimitrijoe@gmail.com&gt;,\\n   ...</td>\n",
       "      <td>1</td>\n",
       "      <td>1</td>\n",
       "    </tr>\n",
       "    <tr>\n",
       "      <th>694</th>\n",
       "      <td>tha s9ze of db is an issue with R. We are stil...</td>\n",
       "      <td>ham</td>\n",
       "      <td>\"Jorge Cornejo-Donoso\" &lt;jorgecornejo@uach.cl&gt;</td>\n",
       "      <td>Re: [R] Reasons to Use R</td>\n",
       "      <td>\"'Wilfred Zegwaard'\" &lt;wilfred.zegwaard@gmail.c...</td>\n",
       "      <td>1</td>\n",
       "      <td>1</td>\n",
       "    </tr>\n",
       "    <tr>\n",
       "      <th>706</th>\n",
       "      <td>Have you tried 64 bit machines with larger mem...</td>\n",
       "      <td>ham</td>\n",
       "      <td>\"Gabor Grothendieck\" &lt;ggrothendieck@gmail.com&gt;</td>\n",
       "      <td>Re: [R] Reasons to Use R</td>\n",
       "      <td>\"Jorge Cornejo-Donoso\" &lt;jorgecornejo@uach.cl&gt;</td>\n",
       "      <td>1</td>\n",
       "      <td>1</td>\n",
       "    </tr>\n",
       "    <tr>\n",
       "      <th>715</th>\n",
       "      <td>I have a Dell with 2 Intel XEON 3.0 procesors ...</td>\n",
       "      <td>ham</td>\n",
       "      <td>\"Jorge Cornejo-Donoso\" &lt;jorgecornejo@uach.cl&gt;</td>\n",
       "      <td>Re: [R] Reasons to Use R</td>\n",
       "      <td>\"'Gabor Grothendieck'\" &lt;ggrothendieck@gmail.com&gt;</td>\n",
       "      <td>1</td>\n",
       "      <td>1</td>\n",
       "    </tr>\n",
       "  </tbody>\n",
       "</table>\n",
       "</div>"
      ],
      "text/plain": [
       "                                                  body category  \\\n",
       "8    \\nHi...\\n\\nI have to use R to find out the 90%...      ham   \n",
       "16   Hm... sounds like a homework problem to me...\\...      ham   \n",
       "24   Daer r-helpers,\\n\\nCan anyone help with the fo...      ham   \n",
       "68   On 4/6/07, Wilfred Zegwaard  wrote:\\n\\n> I'm n...      ham   \n",
       "75   On 4/8/07, Johann Hibschman  wrote:\\n> R's pas...      ham   \n",
       "112  I have a question to everybody.\\n\\nAfter log10...      ham   \n",
       "149  \\nI am writing some code to obtain publication...      ham   \n",
       "278  Dear Johann and Gabor,\\n\\nIt's what amounts to...      ham   \n",
       "307  Dear R-users,\\n\\nI would like to use \"bruto\" f...      ham   \n",
       "318  Dear R users,\\n\\nI am new to R. I would like t...      ham   \n",
       "323  Hi,\\n\\nI am using tsls function from sem packa...      ham   \n",
       "408  On Sun, 8 Apr 2007, hadley wickham wrote:\\n\\n>...      ham   \n",
       "472  Hello,\\n\\nI want to know if there are some fun...      ham   \n",
       "501  Joey,\\n\\nFirst of all, it is bad habit to call...      ham   \n",
       "534  Thanks,\\nI have much to learn~~~\\n\\nShao chunx...      ham   \n",
       "578  Dear adschai,\\n\\nIt's not possible to know fro...      ham   \n",
       "582  Thanks anhnmncb\\nI think the problem comes fro...      ham   \n",
       "594  I am trying to install the gnomeGUI package\\nI...      ham   \n",
       "622  Shuji,\\n\\nI suspect that bruto blows up becaus...      ham   \n",
       "629  >>>>> \"BDR\" == Prof Brian Ripley \\n>>>>>     o...      ham   \n",
       "630  Does anyone know of a package that includes th...      ham   \n",
       "668  Gabor has already showed you one way to make y...      ham   \n",
       "694  tha s9ze of db is an issue with R. We are stil...      ham   \n",
       "706  Have you tried 64 bit machines with larger mem...      ham   \n",
       "715  I have a Dell with 2 Intel XEON 3.0 procesors ...      ham   \n",
       "\n",
       "                                          from_address  \\\n",
       "8                      \"Jochen.F\" <jjfahr@ucalgary.ca>   \n",
       "16             \"Sarah Goslee\" <sarah.goslee@gmail.com>   \n",
       "24                Michael Kubovy <kubovy@virginia.edu>   \n",
       "68              \"Johann Hibschman\" <johannh@gmail.com>   \n",
       "75      \"Gabor Grothendieck\" <ggrothendieck@gmail.com>   \n",
       "112               \"Zia Uddin Ahmed\" <zua3@cornell.edu>   \n",
       "149  \"Cressoni, Massimo \\(NIH/NHLBI\\) [F]\" <cresson...   \n",
       "278      Wilfred Zegwaard <wilfred.zegwaard@gmail.com>   \n",
       "307  =?ISO-2022-JP?B?GyRCQG44fRsoQiAbJEI9JDwjGyhC?=...   \n",
       "318            \"joey repice\" <fireseedmusic@gmail.com>   \n",
       "323                              adschai@optonline.net   \n",
       "408          Prof Brian Ripley <ripley@stats.ox.ac.uk>   \n",
       "472                          Shao <xshining@gmail.com>   \n",
       "501              chao gai <chaogai@duineveld.demon.nl>   \n",
       "534                          Shao <xshining@gmail.com>   \n",
       "578                      \"John Fox\" <jfox@mcmaster.ca>   \n",
       "582                      fsando <fsando@fs-analyse.dk>   \n",
       "594                      fsando <fsando@fs-analyse.dk>   \n",
       "622                  \"Kuhn, Max\" <Max.Kuhn@pfizer.com>   \n",
       "629       Martin Maechler <maechler@stat.math.ethz.ch>   \n",
       "630     \"Chris Elsaesser\" <chris.elsaesser@spadac.com>   \n",
       "668      \"Greg Snow\" <Greg.Snow@intermountainmail.org>   \n",
       "694      \"Jorge Cornejo-Donoso\" <jorgecornejo@uach.cl>   \n",
       "706     \"Gabor Grothendieck\" <ggrothendieck@gmail.com>   \n",
       "715      \"Jorge Cornejo-Donoso\" <jorgecornejo@uach.cl>   \n",
       "\n",
       "                                               subject  \\\n",
       "8                 [R] Confidence-Intervals.... help...   \n",
       "16            Re: [R] Confidence-Intervals.... help...   \n",
       "24          [R] Failure of mcsamp() but not mcmcsamp()   \n",
       "68                            Re: [R] Reasons to Use R   \n",
       "75                            Re: [R] Reasons to Use R   \n",
       "112  [R] How do I back transforme ordinary log-krig...   \n",
       "149                        [R] Plot symbols dimensions   \n",
       "278                           Re: [R] Reasons to Use R   \n",
       "307  [R] Could not fit correct values in discrimina...   \n",
       "318  [R] R:Maximum likelihood estimation using BHHH...   \n",
       "323  [R] Dealing with large nominal predictor in se...   \n",
       "408            Re: [R] data encapsulation with classes   \n",
       "472  [R] How to solve differential and integral equ...   \n",
       "501  Re: [R] R:Maximum likelihood estimation using ...   \n",
       "534  Re: [R] How to solve differential and integral...   \n",
       "578  Re: [R] Dealing with large nominal predictor i...   \n",
       "582           Re: [R] R 'could not find any X11 fonts'   \n",
       "594  [R] Problem installing gnomeGUI in Ubuntu: \"HA...   \n",
       "622  Re: [R] Could not fit correct values in discri...   \n",
       "629            Re: [R] data encapsulation with classes   \n",
       "630                             [R] Modified Sims test   \n",
       "668  Re: [R] lm() intercept at the end, rather than...   \n",
       "694                           Re: [R] Reasons to Use R   \n",
       "706                           Re: [R] Reasons to Use R   \n",
       "715                           Re: [R] Reasons to Use R   \n",
       "\n",
       "                                            to_address  clusterID  \\\n",
       "8                             r-help@stat.math.ethz.ch          1   \n",
       "16                     \"Jochen.F\" <jjfahr@ucalgary.ca>          1   \n",
       "24                            r-help@stat.math.ethz.ch          1   \n",
       "68     \"Wilfred Zegwaard\" <wilfred.zegwaard@gmail.com>          1   \n",
       "75              \"Johann Hibschman\" <johannh@gmail.com>          1   \n",
       "112                           r-help@stat.math.ethz.ch          1   \n",
       "149                         <r-help@stat.math.ethz.ch>          1   \n",
       "278                           r-help@stat.math.ethz.ch          1   \n",
       "307                           r-help@stat.math.ethz.ch          1   \n",
       "318                           r-help@stat.math.ethz.ch          1   \n",
       "323                           r-help@stat.math.ethz.ch          1   \n",
       "408               hadley wickham <h.wickham@gmail.com>          1   \n",
       "472                  r-help <r-help@stat.math.ethz.ch>          1   \n",
       "501                           r-help@stat.math.ethz.ch          1   \n",
       "534                  r-help <r-help@stat.math.ethz.ch>          1   \n",
       "578                            <adschai@optonline.net>          1   \n",
       "582                           r-help@stat.math.ethz.ch          1   \n",
       "594                           r-help@stat.math.ethz.ch          1   \n",
       "622  \"?? ??\" <kawaguchi@math.kyushu-u.ac.jp>, <r-he...          1   \n",
       "629          Prof Brian Ripley <ripley@stats.ox.ac.uk>          1   \n",
       "630                         <r-help@stat.math.ethz.ch>          1   \n",
       "668  \"Dimitri Szerman\" <dimitrijoe@gmail.com>,\\n   ...          1   \n",
       "694  \"'Wilfred Zegwaard'\" <wilfred.zegwaard@gmail.c...          1   \n",
       "706      \"Jorge Cornejo-Donoso\" <jorgecornejo@uach.cl>          1   \n",
       "715   \"'Gabor Grothendieck'\" <ggrothendieck@gmail.com>          1   \n",
       "\n",
       "     categoryBinary  \n",
       "8                 1  \n",
       "16                1  \n",
       "24                1  \n",
       "68                1  \n",
       "75                1  \n",
       "112               1  \n",
       "149               1  \n",
       "278               1  \n",
       "307               1  \n",
       "318               1  \n",
       "323               1  \n",
       "408               1  \n",
       "472               1  \n",
       "501               1  \n",
       "534               1  \n",
       "578               1  \n",
       "582               1  \n",
       "594               1  \n",
       "622               1  \n",
       "629               1  \n",
       "630               1  \n",
       "668               1  \n",
       "694               1  \n",
       "706               1  \n",
       "715               1  "
      ]
     },
     "execution_count": 32,
     "metadata": {},
     "output_type": "execute_result"
    }
   ],
   "source": [
    "df[df['clusterID'] == 1].head(25)"
   ]
  },
  {
   "cell_type": "markdown",
   "metadata": {},
   "source": [
    "Looking at the first 25 rows of each cluster, some patterns also emerge in the addresses and subject lines. The to_address of the cluster 0 (mostly spam) emails are all to uwaterloo.ca accounts, while the to_address of the cluster 1 (ham) emails are to a variety of different providers including waterloo.ca but also others such as develooper.com.\n",
    "\n",
    "For the from_addresses, the cluster 0 (mostly spam) emails are all from different addresses while the cluster 1 (ham) emails have several repeated senders.\n",
    "\n",
    "For the subject line, all of the cluster 1 (ham) emails have [R] included. For the cluster 0 (mostly spam) emails, the subject lines are much more varied."
   ]
  },
  {
   "cell_type": "markdown",
   "metadata": {},
   "source": [
    "e. The clusters represent email from two separate mailing lists. One mailing list is for the R programming language (cluster 1 - ham), while the other mailing list is for a university (cluster 0 - spam). The university mailing list contained all of the spam emails."
   ]
  },
  {
   "cell_type": "markdown",
   "metadata": {},
   "source": [
    "### Conclusion"
   ]
  },
  {
   "cell_type": "markdown",
   "metadata": {},
   "source": [
    "From this clustering analysis we were able to determine the significant words of each cluster that may have been combined to create the componenets of the clusters we created when using SVD. Many of these words that could have been combined to create cluster 1 (ham) were related to programming, such as bayesianfilter, which made sense since many of them came from a R programming language email list. Cluster 0 (mostly spam with some ham) had more random words, like abortion or adultery, that are less likely to be in professional emails and more likely to be from spam."
   ]
  }
 ],
 "metadata": {
  "kernelspec": {
   "display_name": "Python 3",
   "language": "python",
   "name": "python3"
  },
  "language_info": {
   "codemirror_mode": {
    "name": "ipython",
    "version": 3
   },
   "file_extension": ".py",
   "mimetype": "text/x-python",
   "name": "python",
   "nbconvert_exporter": "python",
   "pygments_lexer": "ipython3",
   "version": "3.7.6"
  }
 },
 "nbformat": 4,
 "nbformat_minor": 4
}
